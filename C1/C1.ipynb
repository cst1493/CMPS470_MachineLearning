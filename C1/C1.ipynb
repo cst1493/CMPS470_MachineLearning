{
 "cells": [
  {
   "cell_type": "markdown",
   "metadata": {},
   "source": [
    "# <center>Challenge 1<center>"
   ]
  },
  {
   "cell_type": "markdown",
   "metadata": {},
   "source": [
    "<p>Team Name:CK\n",
    "<p>Student Names: Austin Freeman and Cameron Tharpe\n",
    "<p>Student W#s:W0652871 and W0668972"
   ]
  },
  {
   "cell_type": "markdown",
   "metadata": {},
   "source": [
    "## Instructions\n",
    "Use generic coding style unless hard-coded values are really necessary.<br>\n",
    "Your code must be efficient and use self-explanatory naming.<br>\n",
    "Use appropriate Python library methods for each task instead of using loops.<br>\n",
    "Run your entire code and save. Then submit this <b>saved</b> copy."
   ]
  },
  {
   "cell_type": "markdown",
   "metadata": {
    "collapsed": true
   },
   "source": [
    "## Imports"
   ]
  },
  {
   "cell_type": "code",
   "execution_count": 1,
   "metadata": {},
   "outputs": [],
   "source": [
    "import array as arr\n",
    "import random\n",
    "from sklearn import preprocessing\n",
    "import numpy as np\n",
    "\n",
    "#from sklearn.datasets import load_iris\n",
    "from sklearn.preprocessing import MinMaxScaler"
   ]
  },
  {
   "cell_type": "markdown",
   "metadata": {},
   "source": [
    "# PART I"
   ]
  },
  {
   "cell_type": "markdown",
   "metadata": {},
   "source": [
    "## Prepare Data"
   ]
  },
  {
   "cell_type": "markdown",
   "metadata": {
    "collapsed": true
   },
   "source": [
    "<b>A. Create a data set D with 100 data points with the following attributes (features) as such:</b>\n",
    "\n",
    "a1 is from a normal distribution N(mean=20,var=4)<br>\n",
    "a2 is from a uniform distribution U(min=14,max=26)<br>"
   ]
  },
  {
   "cell_type": "code",
   "execution_count": 2,
   "metadata": {},
   "outputs": [
    {
     "name": "stdout",
     "output_type": "stream",
     "text": [
      "D: [[15, 20], [25, 23], [9, 16], [22, 16], [24, 21]]\n"
     ]
    }
   ],
   "source": [
    "D = []\n",
    "for i in range(5):\n",
    "    a1 = round(np.random.normal(loc=20, scale=(4), size=None))\n",
    "    a2 = round(np.random.uniform(low=14, high=26)) #a2.append(random.randint(14,26))\n",
    "    D.append([a1,a2])\n",
    "\n",
    "#if we need to normalize: -->\n",
    "#a1 = np.array(temp)\n",
    "#normalized_arr = preprocessing.normalize([a1], norm='max', axis=1, copy=True, return_norm=False)\n",
    "#print(\"a1: \", normalized_arr)\n",
    "\n",
    "#a2 = []\n",
    "#for i in range(5):\n",
    " #   a2.append(round(np.random.uniform(low=14, high=26))) #a2.append(random.randint(14,26))\n",
    "\n",
    "\n",
    "#D = [a1,a2]\n",
    "print(\"D:\", D)"
   ]
  },
  {
   "cell_type": "markdown",
   "metadata": {},
   "source": [
    "## Explore Data"
   ]
  },
  {
   "cell_type": "markdown",
   "metadata": {},
   "source": [
    "Apply min-max scaling to D, P1:"
   ]
  },
  {
   "cell_type": "code",
   "execution_count": 3,
   "metadata": {},
   "outputs": [
    {
     "name": "stdout",
     "output_type": "stream",
     "text": [
      "MinMaxScaler()\n",
      "[25. 23.]\n",
      "[[0.375      0.57142857]\n",
      " [1.         1.        ]\n",
      " [0.         0.        ]\n",
      " [0.8125     0.        ]\n",
      " [0.9375     0.71428571]]\n"
     ]
    }
   ],
   "source": [
    "#\"apply min-max to P1 to get P3\"\n",
    "#P1 = arr.array('i', [])\n",
    "#for i in range(5):\n",
    "#    P1.append(random.randint(1,101))\n",
    "#print(\"P1: \", P1)\n",
    "\n",
    "#print(a1)\n",
    "#temp1 = preprocessing.minmax_scale(a1, axis=0, copy=True)\n",
    "#temp2 = preprocessing.minmax_scale(a2, axis=0, copy=True)\n",
    "#print(temp1)\n",
    "#P1 = [temp1, temp2]\n",
    "#print(P1)\n",
    "\n",
    "scaler = MinMaxScaler()\n",
    "print(scaler.fit(D))\n",
    "print(scaler.data_max_)\n",
    "P1 = scaler.transform(D)\n",
    "print(P1)"
   ]
  },
  {
   "cell_type": "markdown",
   "metadata": {},
   "source": [
    "Apply std-mean scaling to D, P2"
   ]
  },
  {
   "cell_type": "code",
   "execution_count": 4,
   "metadata": {},
   "outputs": [
    {
     "ename": "AttributeError",
     "evalue": "'StandardScaler' object has no attribute 'shape'",
     "output_type": "error",
     "traceback": [
      "\u001b[1;31m---------------------------------------------------------------------------\u001b[0m",
      "\u001b[1;31mAttributeError\u001b[0m                            Traceback (most recent call last)",
      "\u001b[1;32m<ipython-input-4-28d39cbde00d>\u001b[0m in \u001b[0;36m<module>\u001b[1;34m\u001b[0m\n\u001b[0;32m      1\u001b[0m \u001b[0mstdTemp1\u001b[0m \u001b[1;33m=\u001b[0m \u001b[0mpreprocessing\u001b[0m\u001b[1;33m.\u001b[0m\u001b[0mStandardScaler\u001b[0m\u001b[1;33m(\u001b[0m\u001b[1;33m)\u001b[0m\u001b[1;33m\u001b[0m\u001b[1;33m\u001b[0m\u001b[0m\n\u001b[1;32m----> 2\u001b[1;33m \u001b[0mprint\u001b[0m\u001b[1;33m(\u001b[0m\u001b[0mstdTemp1\u001b[0m\u001b[1;33m.\u001b[0m\u001b[0mshape\u001b[0m\u001b[1;33m(\u001b[0m\u001b[0mD\u001b[0m\u001b[1;33m)\u001b[0m\u001b[1;33m)\u001b[0m\u001b[1;33m\u001b[0m\u001b[1;33m\u001b[0m\u001b[0m\n\u001b[0m\u001b[0;32m      3\u001b[0m \u001b[0mprint\u001b[0m\u001b[1;33m(\u001b[0m\u001b[0mstdTemp1\u001b[0m\u001b[1;33m.\u001b[0m\u001b[0mmean_\u001b[0m\u001b[1;33m)\u001b[0m\u001b[1;33m\u001b[0m\u001b[1;33m\u001b[0m\u001b[0m\n",
      "\u001b[1;31mAttributeError\u001b[0m: 'StandardScaler' object has no attribute 'shape'"
     ]
    }
   ],
   "source": [
    "stdTemp1 = preprocessing.StandardScaler()\n",
    "print(stdTemp1.shape(D))\n",
    "print(stdTemp1.mean_)"
   ]
  },
  {
   "cell_type": "markdown",
   "metadata": {},
   "source": [
    "Apply min-max scaling to P1, P3:"
   ]
  },
  {
   "cell_type": "code",
   "execution_count": null,
   "metadata": {},
   "outputs": [],
   "source": [
    "P3 = ''#"
   ]
  },
  {
   "cell_type": "markdown",
   "metadata": {},
   "source": [
    "Plot P1, P2, and P3 for each attribute on a separate chart. Each sub-plot must be side-by-side:"
   ]
  },
  {
   "cell_type": "code",
   "execution_count": null,
   "metadata": {},
   "outputs": [],
   "source": []
  },
  {
   "cell_type": "markdown",
   "metadata": {},
   "source": [
    "Compare P1 and P3. Discuss the relation between P1 and P3:"
   ]
  },
  {
   "cell_type": "markdown",
   "metadata": {},
   "source": []
  },
  {
   "cell_type": "markdown",
   "metadata": {},
   "source": [
    "# PART II"
   ]
  },
  {
   "cell_type": "markdown",
   "metadata": {},
   "source": [
    "## Prepare Data"
   ]
  },
  {
   "cell_type": "markdown",
   "metadata": {},
   "source": [
    "b1 = 2*a1<br>\n",
    "b2 = normal distribution N(mean=40,var=4)<br>\n",
    "Pr(b1,b2) = {(b1, b2)}, data objects with class positive<br>\n",
    "P = Rotate(Pr,45), rotate Pr by 45 degrees in counter-clockwise<br>\n",
    "Nr = Shift(Pr,x,20), shift in X-dimension by 20 units towards right, data objects with class negative<br>\n",
    "N = Rotate(Nr,45), rotate Nr by 45 degrees in counter-clockwise<br>"
   ]
  },
  {
   "cell_type": "code",
   "execution_count": null,
   "metadata": {},
   "outputs": [],
   "source": []
  },
  {
   "cell_type": "markdown",
   "metadata": {},
   "source": [
    "## Scaling"
   ]
  },
  {
   "cell_type": "markdown",
   "metadata": {},
   "source": [
    "Apply scaling to P by min-max to [0, 1], P1:"
   ]
  },
  {
   "cell_type": "code",
   "execution_count": null,
   "metadata": {},
   "outputs": [],
   "source": []
  },
  {
   "cell_type": "markdown",
   "metadata": {},
   "source": [
    "Apply scaling to P by min-max to [-1, 1], P2:"
   ]
  },
  {
   "cell_type": "code",
   "execution_count": null,
   "metadata": {},
   "outputs": [],
   "source": []
  },
  {
   "cell_type": "markdown",
   "metadata": {},
   "source": [
    "Apply scaling to P by std-normal, P3:"
   ]
  },
  {
   "cell_type": "code",
   "execution_count": null,
   "metadata": {},
   "outputs": [],
   "source": []
  },
  {
   "cell_type": "markdown",
   "metadata": {},
   "source": [
    "Apply scaling to N by min-max to [0, 1], N1:"
   ]
  },
  {
   "cell_type": "code",
   "execution_count": null,
   "metadata": {},
   "outputs": [],
   "source": []
  },
  {
   "cell_type": "markdown",
   "metadata": {},
   "source": [
    "Apply scaling to N by min-max to [-1, 1], N2:"
   ]
  },
  {
   "cell_type": "code",
   "execution_count": null,
   "metadata": {},
   "outputs": [],
   "source": []
  },
  {
   "cell_type": "markdown",
   "metadata": {},
   "source": [
    "Apply scaling to N by std-normal, N3:"
   ]
  },
  {
   "cell_type": "code",
   "execution_count": null,
   "metadata": {},
   "outputs": [],
   "source": []
  },
  {
   "cell_type": "markdown",
   "metadata": {},
   "source": [
    "## Visualize Data"
   ]
  },
  {
   "cell_type": "markdown",
   "metadata": {},
   "source": [
    "Plot Pr, P, P1, P2, P3 in the same figure on a separate sub-plots of 2 by 3:"
   ]
  },
  {
   "cell_type": "code",
   "execution_count": null,
   "metadata": {},
   "outputs": [],
   "source": []
  },
  {
   "cell_type": "markdown",
   "metadata": {},
   "source": [
    "Plot Nr, N, N1, N2, N3 in the same figure on a separate sub-plots of 2 by 3:"
   ]
  },
  {
   "cell_type": "code",
   "execution_count": null,
   "metadata": {},
   "outputs": [],
   "source": []
  },
  {
   "cell_type": "markdown",
   "metadata": {},
   "source": [
    "## K-NN Classification"
   ]
  },
  {
   "cell_type": "markdown",
   "metadata": {},
   "source": [
    "### Obtain 60% training dTrn, 20% validation dVal, 20% test dTst for each data set per class:"
   ]
  },
  {
   "cell_type": "code",
   "execution_count": null,
   "metadata": {},
   "outputs": [],
   "source": [
    "def getData(pInput,pRatio):\n",
    "    #complete as needed\n",
    "    #return dTrn, dVal, dTst\n",
    "    #pRatio = (0.6, 0.2, 0.3) as an example\n",
    "    pass\n",
    "        \n",
    "#\n",
    "\n"
   ]
  },
  {
   "cell_type": "markdown",
   "metadata": {},
   "source": [
    "### Explore K-NN Classifiers"
   ]
  },
  {
   "cell_type": "code",
   "execution_count": null,
   "metadata": {},
   "outputs": [],
   "source": [
    "'''\n",
    "Performance measures: Sensitivity, specificity, AUC, F1\n",
    "\n",
    "Define a function knnClassifier(pTrn, pVal, pTst, eps, *kwargs)\n",
    "k = 2\n",
    "Loop: Increase k by 1 until the accuracy change is less than eps:<br>\n",
    "   Generate Model\n",
    "   Obtain contingency table based on validation data set\n",
    "   Calculate accuracy over validation data set\n",
    "   Calculate accuracy change \"ac\"\n",
    "   if ac < eps:\n",
    "       Obtain contingency table for testing data set\n",
    "       Calculate performance measures for testing data set\n",
    "       Plot ROC\n",
    "       Plot accuracy-K chart\n",
    "       return (k, performance measures, contingency table, others as needed)\n",
    "   else:\n",
    "       k = k + 1\n",
    "   #\n",
    "#   \n",
    "'''"
   ]
  },
  {
   "cell_type": "code",
   "execution_count": null,
   "metadata": {},
   "outputs": [],
   "source": [
    "def knnClassifier(pTrn, pVal, pTst, eps, *kwargs):\n",
    "    #complete as needed\n",
    "    #return the model and performance measures\n",
    "    k = 2\n",
    "    \n",
    "\n",
    "#"
   ]
  },
  {
   "cell_type": "markdown",
   "metadata": {},
   "source": [
    "### Run experiments for each data set {(Pr, Nr), (P, N), (P1, N1), (P2, N2), (P3, N3)}"
   ]
  },
  {
   "cell_type": "code",
   "execution_count": null,
   "metadata": {},
   "outputs": [],
   "source": [
    "'''\n",
    "For each data set (Pi, Ni)\n",
    "   Get training, validation, test data sets\n",
    "   Find the best model\n",
    "   Obtain contingency table\n",
    "   Calculate performance measures for the test data set\n",
    "   Plot ROC\n",
    "   Plot accuracy-K chart\n",
    "'''"
   ]
  },
  {
   "cell_type": "code",
   "execution_count": null,
   "metadata": {},
   "outputs": [],
   "source": []
  },
  {
   "cell_type": "markdown",
   "metadata": {},
   "source": [
    "## Discussion\n",
    "Discuss how scaling affects the classification performance of K-NN classifier based on each performance measures "
   ]
  },
  {
   "cell_type": "code",
   "execution_count": null,
   "metadata": {},
   "outputs": [],
   "source": []
  },
  {
   "cell_type": "markdown",
   "metadata": {
    "collapsed": true
   },
   "source": [
    "## <center> REFERENCES </center>\n",
    "List resources (book, internet page, etc.) that you used to complete this challenge."
   ]
  },
  {
   "cell_type": "markdown",
   "metadata": {},
   "source": []
  }
 ],
 "metadata": {
  "kernelspec": {
   "display_name": "Python 3",
   "language": "python",
   "name": "python3"
  },
  "language_info": {
   "codemirror_mode": {
    "name": "ipython",
    "version": 3
   },
   "file_extension": ".py",
   "mimetype": "text/x-python",
   "name": "python",
   "nbconvert_exporter": "python",
   "pygments_lexer": "ipython3",
   "version": "3.8.5"
  }
 },
 "nbformat": 4,
 "nbformat_minor": 2
}
