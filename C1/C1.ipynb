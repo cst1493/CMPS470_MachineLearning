{
 "cells": [
  {
   "cell_type": "markdown",
   "metadata": {},
   "source": [
    "# <center>Challenge 1<center>"
   ]
  },
  {
   "cell_type": "markdown",
   "metadata": {},
   "source": [
    "<p>Team Name:CK\n",
    "<p>Student Names: Austin Freeman and Cameron Tharpe\n",
    "<p>Student W#s:W0652871 and W0668972"
   ]
  },
  {
   "cell_type": "markdown",
   "metadata": {},
   "source": [
    "## Instructions\n",
    "Use generic coding style unless hard-coded values are really necessary.<br>\n",
    "Your code must be efficient and use self-explanatory naming.<br>\n",
    "Use appropriate Python library methods for each task instead of using loops.<br>\n",
    "Run your entire code and save. Then submit this <b>saved</b> copy."
   ]
  },
  {
   "cell_type": "markdown",
   "metadata": {
    "collapsed": true
   },
   "source": [
    "## Imports"
   ]
  },
  {
   "cell_type": "code",
   "execution_count": 24,
   "metadata": {},
   "outputs": [],
   "source": [
    "import array as arr\n",
    "import random\n",
    "from sklearn import preprocessing\n",
    "import numpy as np\n",
    "\n",
    "#from sklearn.datasets import load_iris\n",
    "from sklearn.preprocessing import MinMaxScaler, StandardScaler\n",
    "from matplotlib import pyplot as plt"
   ]
  },
  {
   "cell_type": "markdown",
   "metadata": {},
   "source": [
    "# PART I"
   ]
  },
  {
   "cell_type": "markdown",
   "metadata": {},
   "source": [
    "## Prepare Data"
   ]
  },
  {
   "cell_type": "markdown",
   "metadata": {
    "collapsed": true
   },
   "source": [
    "<b>A. Create a data set D with 100 data points with the following attributes (features) as such:</b>\n",
    "\n",
    "a1 is from a normal distribution N(mean=20,var=4)<br>\n",
    "a2 is from a uniform distribution U(min=14,max=26)<br>"
   ]
  },
  {
   "cell_type": "code",
   "execution_count": 17,
   "metadata": {},
   "outputs": [
    {
     "name": "stdout",
     "output_type": "stream",
     "text": [
      "D: [[19, 17], [29, 14], [10, 20], [13, 25], [19, 22]]\n",
      "19\n"
     ]
    }
   ],
   "source": [
    "#Creating data set D with a1 and a2\n",
    "\n",
    "D = []\n",
    "for i in range(5):\n",
    "    a1 = round(np.random.normal(loc=20, scale=(4), size=None))\n",
    "    a2 = round(np.random.uniform(low=14, high=26)) #a2.append(random.randint(14,26))\n",
    "    D.append([a1,a2])\n",
    "\n",
    "print(\"D:\", D)"
   ]
  },
  {
   "cell_type": "markdown",
   "metadata": {},
   "source": [
    "## Explore Data"
   ]
  },
  {
   "cell_type": "markdown",
   "metadata": {},
   "source": [
    "Apply min-max scaling to D, P1:"
   ]
  },
  {
   "cell_type": "code",
   "execution_count": 9,
   "metadata": {},
   "outputs": [
    {
     "name": "stdout",
     "output_type": "stream",
     "text": [
      "P1: \n",
      " [[0.375      0.57142857]\n",
      " [1.         1.        ]\n",
      " [0.         0.        ]\n",
      " [0.8125     0.        ]\n",
      " [0.9375     0.71428571]]\n"
     ]
    }
   ],
   "source": [
    "Min_Max = MinMaxScaler()\n",
    "Min_Max.fit(D)\n",
    "\n",
    "P1 = Min_Max.transform(D)\n",
    "print(\"P1: \\n\", P1)"
   ]
  },
  {
   "cell_type": "markdown",
   "metadata": {},
   "source": [
    "Apply std-mean scaling to D, P2"
   ]
  },
  {
   "cell_type": "code",
   "execution_count": 14,
   "metadata": {},
   "outputs": [
    {
     "name": "stdout",
     "output_type": "stream",
     "text": [
      "P2: \n",
      " [[-0.65582584  0.28718326]\n",
      " [ 0.98373875  1.3641205 ]\n",
      " [-1.63956459 -1.14873305]\n",
      " [ 0.49186938 -1.14873305]\n",
      " [ 0.81978229  0.64616234]]\n"
     ]
    }
   ],
   "source": [
    "std_Scale = StandardScaler()\n",
    "std_Scale.fit(D)\n",
    "\n",
    "P2 = std_Scale.transform(D)\n",
    "print(\"P2: \\n\", P2)"
   ]
  },
  {
   "cell_type": "markdown",
   "metadata": {},
   "source": [
    "Apply min-max scaling to P1, P3:"
   ]
  },
  {
   "cell_type": "code",
   "execution_count": 16,
   "metadata": {},
   "outputs": [
    {
     "name": "stdout",
     "output_type": "stream",
     "text": [
      "P3: \n",
      " [[15. 20.]\n",
      " [25. 23.]\n",
      " [ 9. 16.]\n",
      " [22. 16.]\n",
      " [24. 21.]]\n"
     ]
    }
   ],
   "source": [
    "#Min-Maxing P1 will return original data set prior to first Min-Max\n",
    "\n",
    "Min_Max_2 = MinMaxScaler()\n",
    "Min_Max_2.fit(P1)\n",
    "\n",
    "P3 = Min_Max_2.transform(D)\n",
    "print(\"P3: \\n\", P3)"
   ]
  },
  {
   "cell_type": "markdown",
   "metadata": {},
   "source": [
    "Plot P1, P2, and P3 for each attribute on a separate chart. Each sub-plot must be side-by-side:"
   ]
  },
  {
   "cell_type": "code",
   "execution_count": 38,
   "metadata": {},
   "outputs": [
    {
     "name": "stdout",
     "output_type": "stream",
     "text": [
      "      \n"
     ]
    },
    {
     "data": {
      "text/plain": [
       "<matplotlib.collections.PathCollection at 0x18809a54d60>"
      ]
     },
     "execution_count": 38,
     "metadata": {},
     "output_type": "execute_result"
    },
    {
     "data": {
      "image/png": "[encoded data removed]",
      "text/plain": [
       "<Figure size 432x288 with 3 Axes>"
      ]
     },
     "metadata": {
      "needs_background": "light"
     },
     "output_type": "display_data"
    }
   ],
   "source": [
    "fig, (ax1, ax2, ax3) = plt.subplots(1,3)\n",
    "fig.suptitle(\"P1, P2 and P3\")\n",
    "\n",
    "ax1.scatter(*zip(*P1))\n",
    "ax2.scatter(*zip(*P2))\n",
    "ax3.scatter(*zip(*P3))"
   ]
  },
  {
   "cell_type": "markdown",
   "metadata": {},
   "source": [
    "Compare P1 and P3. Discuss the relation between P1 and P3:"
   ]
  },
  {
   "cell_type": "markdown",
   "metadata": {},
   "source": []
  },
  {
   "cell_type": "markdown",
   "metadata": {},
   "source": [
    "# PART II"
   ]
  },
  {
   "cell_type": "markdown",
   "metadata": {},
   "source": [
    "## Prepare Data"
   ]
  },
  {
   "cell_type": "markdown",
   "metadata": {},
   "source": [
    "b1 = 2*a1<br>\n",
    "b2 = normal distribution N(mean=40,var=4)<br>\n",
    "Pr(b1,b2) = {(b1, b2)}, data objects with class positive<br>\n",
    "P = Rotate(Pr,45), rotate Pr by 45 degrees in counter-clockwise<br>\n",
    "Nr = Shift(Pr,x,20), shift in X-dimension by 20 units towards right, data objects with class negative<br>\n",
    "N = Rotate(Nr,45), rotate Nr by 45 degrees in counter-clockwise<br>"
   ]
  },
  {
   "cell_type": "code",
   "execution_count": 77,
   "metadata": {},
   "outputs": [],
   "source": [
    "b1 = [] #creating a1 from D\n",
    "for i in range(0,len(D)):\n",
    "    b1.append((D[i][0]) * 2)\n",
    "    \n",
    "    \n",
    "b2 = []\n",
    "for i in range(5):\n",
    "    b2.append(round(np.random.normal(loc=40, scale=(4), size=None)))\n",
    "    \n",
    "class Pr(list):\n",
    "    \n",
    "    def __init__(self, b1, b2):\n",
    "        self.b1 = b1\n",
    "        self.b2 = b2\n",
    "    \n",
    "    def printList(self):\n",
    "        print(self.b1, self.b2)\n",
    "        \n",
    "Pr = Pr(b1,b2)"
   ]
  },
  {
   "cell_type": "markdown",
   "metadata": {},
   "source": [
    "## Scaling"
   ]
  },
  {
   "cell_type": "markdown",
   "metadata": {},
   "source": [
    "Apply scaling to P by min-max to [0, 1], P1:"
   ]
  },
  {
   "cell_type": "code",
   "execution_count": null,
   "metadata": {},
   "outputs": [],
   "source": []
  },
  {
   "cell_type": "markdown",
   "metadata": {},
   "source": [
    "Apply scaling to P by min-max to [-1, 1], P2:"
   ]
  },
  {
   "cell_type": "code",
   "execution_count": null,
   "metadata": {},
   "outputs": [],
   "source": []
  },
  {
   "cell_type": "markdown",
   "metadata": {},
   "source": [
    "Apply scaling to P by std-normal, P3:"
   ]
  },
  {
   "cell_type": "code",
   "execution_count": null,
   "metadata": {},
   "outputs": [],
   "source": []
  },
  {
   "cell_type": "markdown",
   "metadata": {},
   "source": [
    "Apply scaling to N by min-max to [0, 1], N1:"
   ]
  },
  {
   "cell_type": "code",
   "execution_count": null,
   "metadata": {},
   "outputs": [],
   "source": []
  },
  {
   "cell_type": "markdown",
   "metadata": {},
   "source": [
    "Apply scaling to N by min-max to [-1, 1], N2:"
   ]
  },
  {
   "cell_type": "code",
   "execution_count": null,
   "metadata": {},
   "outputs": [],
   "source": []
  },
  {
   "cell_type": "markdown",
   "metadata": {},
   "source": [
    "Apply scaling to N by std-normal, N3:"
   ]
  },
  {
   "cell_type": "code",
   "execution_count": null,
   "metadata": {},
   "outputs": [],
   "source": []
  },
  {
   "cell_type": "markdown",
   "metadata": {},
   "source": [
    "## Visualize Data"
   ]
  },
  {
   "cell_type": "markdown",
   "metadata": {},
   "source": [
    "Plot Pr, P, P1, P2, P3 in the same figure on a separate sub-plots of 2 by 3:"
   ]
  },
  {
   "cell_type": "code",
   "execution_count": null,
   "metadata": {},
   "outputs": [],
   "source": []
  },
  {
   "cell_type": "markdown",
   "metadata": {},
   "source": [
    "Plot Nr, N, N1, N2, N3 in the same figure on a separate sub-plots of 2 by 3:"
   ]
  },
  {
   "cell_type": "code",
   "execution_count": null,
   "metadata": {},
   "outputs": [],
   "source": []
  },
  {
   "cell_type": "markdown",
   "metadata": {},
   "source": [
    "## K-NN Classification"
   ]
  },
  {
   "cell_type": "markdown",
   "metadata": {},
   "source": [
    "### Obtain 60% training dTrn, 20% validation dVal, 20% test dTst for each data set per class:"
   ]
  },
  {
   "cell_type": "code",
   "execution_count": null,
   "metadata": {},
   "outputs": [],
   "source": [
    "def getData(pInput,pRatio):\n",
    "    #complete as needed\n",
    "    #return dTrn, dVal, dTst\n",
    "    #pRatio = (0.6, 0.2, 0.3) as an example\n",
    "    pass\n",
    "        \n",
    "#\n",
    "\n"
   ]
  },
  {
   "cell_type": "markdown",
   "metadata": {},
   "source": [
    "### Explore K-NN Classifiers"
   ]
  },
  {
   "cell_type": "code",
   "execution_count": null,
   "metadata": {},
   "outputs": [],
   "source": [
    "'''\n",
    "Performance measures: Sensitivity, specificity, AUC, F1\n",
    "\n",
    "Define a function knnClassifier(pTrn, pVal, pTst, eps, *kwargs)\n",
    "k = 2\n",
    "Loop: Increase k by 1 until the accuracy change is less than eps:<br>\n",
    "   Generate Model\n",
    "   Obtain contingency table based on validation data set\n",
    "   Calculate accuracy over validation data set\n",
    "   Calculate accuracy change \"ac\"\n",
    "   if ac < eps:\n",
    "       Obtain contingency table for testing data set\n",
    "       Calculate performance measures for testing data set\n",
    "       Plot ROC\n",
    "       Plot accuracy-K chart\n",
    "       return (k, performance measures, contingency table, others as needed)\n",
    "   else:\n",
    "       k = k + 1\n",
    "   #\n",
    "#   \n",
    "'''"
   ]
  },
  {
   "cell_type": "code",
   "execution_count": null,
   "metadata": {},
   "outputs": [],
   "source": [
    "def knnClassifier(pTrn, pVal, pTst, eps, *kwargs):\n",
    "    #complete as needed\n",
    "    #return the model and performance measures\n",
    "    k = 2\n",
    "    \n",
    "\n",
    "#"
   ]
  },
  {
   "cell_type": "markdown",
   "metadata": {},
   "source": [
    "### Run experiments for each data set {(Pr, Nr), (P, N), (P1, N1), (P2, N2), (P3, N3)}"
   ]
  },
  {
   "cell_type": "code",
   "execution_count": null,
   "metadata": {},
   "outputs": [],
   "source": [
    "'''\n",
    "For each data set (Pi, Ni)\n",
    "   Get training, validation, test data sets\n",
    "   Find the best model\n",
    "   Obtain contingency table\n",
    "   Calculate performance measures for the test data set\n",
    "   Plot ROC\n",
    "   Plot accuracy-K chart\n",
    "'''"
   ]
  },
  {
   "cell_type": "code",
   "execution_count": null,
   "metadata": {},
   "outputs": [],
   "source": []
  },
  {
   "cell_type": "markdown",
   "metadata": {},
   "source": [
    "## Discussion\n",
    "Discuss how scaling affects the classification performance of K-NN classifier based on each performance measures "
   ]
  },
  {
   "cell_type": "code",
   "execution_count": null,
   "metadata": {},
   "outputs": [],
   "source": []
  },
  {
   "cell_type": "markdown",
   "metadata": {
    "collapsed": true
   },
   "source": [
    "## <center> REFERENCES </center>\n",
    "List resources (book, internet page, etc.) that you used to complete this challenge."
   ]
  },
  {
   "cell_type": "markdown",
   "metadata": {},
   "source": []
  }
 ],
 "metadata": {
  "kernelspec": {
   "display_name": "Python 3",
   "language": "python",
   "name": "python3"
  },
  "language_info": {
   "codemirror_mode": {
    "name": "ipython",
    "version": 3
   },
   "file_extension": ".py",
   "mimetype": "text/x-python",
   "name": "python",
   "nbconvert_exporter": "python",
   "pygments_lexer": "ipython3",
   "version": "3.8.5"
  }
 },
 "nbformat": 4,
 "nbformat_minor": 2
}
