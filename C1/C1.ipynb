{
 "cells": [
  {
   "cell_type": "markdown",
   "metadata": {},
   "source": [
    "# <center>Challenge 1<center>"
   ]
  },
  {
   "cell_type": "markdown",
   "metadata": {},
   "source": [
    "<p>Team Name:CK\n",
    "<p>Student Names: Austin Freeman and Cameron Tharpe\n",
    "<p>Student W#s:W0652871 and W0668972"
   ]
  },
  {
   "cell_type": "markdown",
   "metadata": {},
   "source": [
    "## Instructions\n",
    "Use generic coding style unless hard-coded values are really necessary.<br>\n",
    "Your code must be efficient and use self-explanatory naming.<br>\n",
    "Use appropriate Python library methods for each task instead of using loops.<br>\n",
    "Run your entire code and save. Then submit this <b>saved</b> copy."
   ]
  },
  {
   "cell_type": "markdown",
   "metadata": {
    "collapsed": true
   },
   "source": [
    "## Imports"
   ]
  },
  {
   "cell_type": "code",
   "execution_count": 885,
   "metadata": {},
   "outputs": [],
   "source": [
    "import array as arr\n",
    "import random\n",
    "from sklearn import preprocessing\n",
    "import numpy as np\n",
    "import math\n",
    "import pandas as pd\n",
    "\n",
    "from sklearn.preprocessing import MinMaxScaler, StandardScaler, scale\n",
    "from sklearn.model_selection import train_test_split\n",
    "from sklearn import metrics\n",
    "from sklearn.neighbors import KNeighborsClassifier\n",
    "from scipy.stats import chi2_contingency\n",
    "from matplotlib import pyplot as plt"
   ]
  },
  {
   "cell_type": "markdown",
   "metadata": {},
   "source": [
    "# PART I"
   ]
  },
  {
   "cell_type": "markdown",
   "metadata": {},
   "source": [
    "## Prepare Data"
   ]
  },
  {
   "cell_type": "markdown",
   "metadata": {
    "collapsed": true
   },
   "source": [
    "<b>A. Create a data set D with 100 data points with the following attributes (features) as such:</b>\n",
    "\n",
    "a1 is from a normal distribution N(mean=20,var=4)<br>\n",
    "a2 is from a uniform distribution U(min=14,max=26)<br>"
   ]
  },
  {
   "cell_type": "code",
   "execution_count": 886,
   "metadata": {},
   "outputs": [],
   "source": [
    "#Creating data set D with a1 and a2\n",
    "\n",
    "D = []\n",
    "for i in range(100):\n",
    "    a1 = (np.random.normal(loc=20, scale=(4), size=None))\n",
    "    a2 = (np.random.uniform(low=14, high=26))\n",
    "    D.append([a1,a2])\n",
    "\n",
    "#print(\"D:\")\n",
    "#D"
   ]
  },
  {
   "cell_type": "markdown",
   "metadata": {},
   "source": [
    "## Explore Data"
   ]
  },
  {
   "cell_type": "markdown",
   "metadata": {},
   "source": [
    "Apply min-max scaling to D, P1:"
   ]
  },
  {
   "cell_type": "code",
   "execution_count": 887,
   "metadata": {},
   "outputs": [],
   "source": [
    "Min_Max = MinMaxScaler()\n",
    "Min_Max.fit(D)\n",
    "\n",
    "P1 = Min_Max.transform(D)\n",
    "#print(\"P1: \\n\", P1)"
   ]
  },
  {
   "cell_type": "markdown",
   "metadata": {},
   "source": [
    "Apply std-mean scaling to D, P2"
   ]
  },
  {
   "cell_type": "code",
   "execution_count": 888,
   "metadata": {},
   "outputs": [],
   "source": [
    "std_Scale = StandardScaler()\n",
    "std_Scale.fit(D)\n",
    "\n",
    "P2 = std_Scale.transform(D)\n",
    "#print(\"P2: \\n\", P2)"
   ]
  },
  {
   "cell_type": "markdown",
   "metadata": {},
   "source": [
    "Apply min-max scaling to P1, P3:"
   ]
  },
  {
   "cell_type": "code",
   "execution_count": 889,
   "metadata": {},
   "outputs": [],
   "source": [
    "#Min-Maxing P1 will return original data set prior to first Min-Max\n",
    "\n",
    "Min_Max_2 = MinMaxScaler()\n",
    "Min_Max_2.fit(P1)\n",
    "\n",
    "P3 = Min_Max_2.transform(D)\n",
    "#print(\"P3: \\n\", P3) "
   ]
  },
  {
   "cell_type": "markdown",
   "metadata": {},
   "source": [
    "Plot P1, P2, and P3 for each attribute on a separate chart. Each sub-plot must be side-by-side:"
   ]
  },
  {
   "cell_type": "code",
   "execution_count": 890,
   "metadata": {},
   "outputs": [
    {
     "data": {
      "text/plain": [
       "<matplotlib.collections.PathCollection at 0x224a4908d30>"
      ]
     },
     "execution_count": 890,
     "metadata": {},
     "output_type": "execute_result"
    },
    {
     "data": {
      "image/png": "[encoded data removed]",
      "text/plain": [
       "<Figure size 432x288 with 3 Axes>"
      ]
     },
     "metadata": {
      "needs_background": "light"
     },
     "output_type": "display_data"
    }
   ],
   "source": [
    "fig, (ax1, ax2, ax3) = plt.subplots(1,3)\n",
    "fig.suptitle(\"P1, P2 and P3\")\n",
    "\n",
    "ax1.scatter(*zip(*P1), color = 'red')\n",
    "ax2.scatter(*zip(*P2), color = 'blue')\n",
    "ax3.scatter(*zip(*P3), color = 'green')"
   ]
  },
  {
   "cell_type": "markdown",
   "metadata": {},
   "source": [
    "Compare P1 and P3. Discuss the relation between P1 and P3:"
   ]
  },
  {
   "cell_type": "markdown",
   "metadata": {},
   "source": [
    "After P1 was Min-Max scaled, all of the data was placed between 0 and 1, where 0 is the minimum value for both x and y values. Min-Max scaling P1 gave us P3. After this scaling, P3 became the original data for P1 before scaling."
   ]
  },
  {
   "cell_type": "markdown",
   "metadata": {},
   "source": []
  },
  {
   "cell_type": "markdown",
   "metadata": {},
   "source": [
    "# PART II"
   ]
  },
  {
   "cell_type": "markdown",
   "metadata": {},
   "source": [
    "## Prepare Data"
   ]
  },
  {
   "cell_type": "markdown",
   "metadata": {},
   "source": [
    "b1 = 2*a1<br>\n",
    "b2 = normal distribution N(mean=40,var=4)<br>\n",
    "Pr(b1,b2) = {(b1, b2)}, data objects with class positive<br>\n",
    "P = Rotate(Pr,45), rotate Pr by 45 degrees in counter-clockwise<br>\n",
    "Nr = Shift(Pr,x,20), shift in X-dimension by 20 units towards right, data objects with class negative<br>\n",
    "N = Rotate(Nr,45), rotate Nr by 45 degrees in counter-clockwise<br>"
   ]
  },
  {
   "cell_type": "code",
   "execution_count": 891,
   "metadata": {},
   "outputs": [],
   "source": [
    "#creating b1 and b2\n",
    "Pre = []\n",
    "for i in range(0,len(D)):\n",
    "    b1 = ((D[i][0]) * 2)\n",
    "    b2 = (np.random.normal(loc=40, scale=(4), size=None))\n",
    "    Pre.append([b1,b2])\n",
    "    \n",
    "Pr = np.array(Pre)\n",
    "#print(\"Pr: \\n\", Pr)\n",
    "\n",
    "###\n",
    "\n",
    "\n",
    "###Rotating Pr\n",
    "def rotation(degrees):\n",
    "    theta = np.radians(degrees)\n",
    "    \n",
    "    rMatrix = np.array( ((np.cos(theta), -np.sin(theta)), (np.sin(theta), np.cos(theta)) ))\n",
    "    return rMatrix\n",
    "\n",
    "P_rotate = rotation(45)\n",
    "\n",
    "P = []\n",
    "for i in range(0, len(Pr)):\n",
    "    P.append(P_rotate.dot(Pr[i]))\n",
    "P = np.array(P)\n",
    "#print(\"\\nP (Pr rotated 45 deg counter-clockwise): \\n\", pd.DataFrame(P))\n",
    "\n",
    "###\n",
    "\n",
    "\n",
    "### Shifting Pr 20 units in the x-direction\n",
    "Nr = []\n",
    "for i in range(0, len(Pr)):\n",
    "    a = Pr[i][0] + 20\n",
    "    b = Pr[i][1]\n",
    "    Nr.append([a,b])\n",
    "\n",
    "Nr = np.array(Nr)\n",
    "#print(\"\\nNr: \\n\", Nr)\n",
    "###\n",
    "\n",
    "\n",
    "### Rotating Nr 45 degrees counter-clockwise\n",
    "N_rotate = rotation(45)\n",
    "\n",
    "N=[]\n",
    "for i in range(0, len(Nr)):\n",
    "    N.append(N_rotate.dot(Nr[i]))\n",
    "N = np.array(N)\n",
    "#print(\"\\nN (Nr rotated 45 deg counter-clockwise): \\n\", pd.DataFrame(N))\n",
    "\n",
    "###"
   ]
  },
  {
   "cell_type": "markdown",
   "metadata": {},
   "source": [
    "## Scaling"
   ]
  },
  {
   "cell_type": "markdown",
   "metadata": {},
   "source": [
    "Apply scaling to P by min-max to [0, 1], P1:"
   ]
  },
  {
   "cell_type": "code",
   "execution_count": 892,
   "metadata": {},
   "outputs": [],
   "source": [
    "Min_Max_P = MinMaxScaler()\n",
    "Min_Max_P.fit(P)\n",
    "\n",
    "P1 = Min_Max_P.transform(P)\n",
    "#print(\"P1: \\n\", P1)"
   ]
  },
  {
   "cell_type": "markdown",
   "metadata": {},
   "source": [
    "Apply scaling to P by min-max to [-1, 1], P2:"
   ]
  },
  {
   "cell_type": "code",
   "execution_count": 893,
   "metadata": {},
   "outputs": [],
   "source": [
    "Min_Max_Neg = MinMaxScaler(feature_range = (-1,1))\n",
    "Min_Max_Neg.fit(P)\n",
    "\n",
    "P2 = Min_Max_Neg.transform(P)\n",
    "#print(\"P2: \\n\", P2)"
   ]
  },
  {
   "cell_type": "markdown",
   "metadata": {},
   "source": [
    "Apply scaling to P by std-normal, P3:"
   ]
  },
  {
   "cell_type": "code",
   "execution_count": 894,
   "metadata": {},
   "outputs": [],
   "source": [
    "P3 = scale(P, axis=0, with_std = True, with_mean = False)\n",
    "#print(\"P3: \\n\", P3)"
   ]
  },
  {
   "cell_type": "markdown",
   "metadata": {},
   "source": [
    "Apply scaling to N by min-max to [0, 1], N1:"
   ]
  },
  {
   "cell_type": "code",
   "execution_count": 895,
   "metadata": {},
   "outputs": [],
   "source": [
    "Min_Max_N = MinMaxScaler()\n",
    "Min_Max_N.fit(N)\n",
    "\n",
    "N1 = Min_Max_N.transform(N)\n",
    "#print(\"N1: \\n\", N1)"
   ]
  },
  {
   "cell_type": "markdown",
   "metadata": {},
   "source": [
    "Apply scaling to N by min-max to [-1, 1], N2:"
   ]
  },
  {
   "cell_type": "code",
   "execution_count": 896,
   "metadata": {},
   "outputs": [],
   "source": [
    "Min_Max_N2 = MinMaxScaler(feature_range = (-1,1))\n",
    "Min_Max_N2.fit(N)\n",
    "\n",
    "N2 = Min_Max_N2.transform(N)\n",
    "#print(\"N2: \\n\", N2)"
   ]
  },
  {
   "cell_type": "markdown",
   "metadata": {},
   "source": [
    "Apply scaling to N by std-normal, N3:"
   ]
  },
  {
   "cell_type": "code",
   "execution_count": 897,
   "metadata": {},
   "outputs": [],
   "source": [
    "N3 = scale(N, axis=0, with_std = True, with_mean = False)\n",
    "#print(\"N3: \\n\", N3)"
   ]
  },
  {
   "cell_type": "markdown",
   "metadata": {},
   "source": [
    "## Visualize Data"
   ]
  },
  {
   "cell_type": "markdown",
   "metadata": {},
   "source": [
    "Plot Pr, P, P1, P2, P3 in the same figure on a separate sub-plots of 2 by 3:"
   ]
  },
  {
   "cell_type": "code",
   "execution_count": 898,
   "metadata": {},
   "outputs": [
    {
     "data": {
      "image/png": "[encoded data removed]",
      "text/plain": [
       "<Figure size 432x288 with 6 Axes>"
      ]
     },
     "metadata": {
      "needs_background": "light"
     },
     "output_type": "display_data"
    }
   ],
   "source": [
    "fig, axs = plt.subplots(2,3)\n",
    "fig.suptitle(\"Pr, P, P1, P2, and P3\")\n",
    "fig.tight_layout()\n",
    "\n",
    "axs[0,0].scatter(*zip(*Pr), color = 'green')\n",
    "axs[0,0].set_title(\"Pr\")\n",
    "axs[0,1].scatter(*zip(*P), color = 'green')\n",
    "axs[0,1].set_title(\"P\")\n",
    "axs[1,0].scatter(*zip(*P1), color = 'green')\n",
    "axs[1,0].set_title(\"P1\")\n",
    "axs[1,1].scatter(*zip(*P2), color = 'green')\n",
    "axs[1,1].set_title(\"P2\")\n",
    "axs[1,2].scatter(*zip(*P3), color = 'green')\n",
    "axs[1,2].set_title(\"P3\")\n",
    "axs[0,2].set_visible(False)"
   ]
  },
  {
   "cell_type": "markdown",
   "metadata": {},
   "source": [
    "Plot Nr, N, N1, N2, N3 in the same figure on a separate sub-plots of 2 by 3:"
   ]
  },
  {
   "cell_type": "code",
   "execution_count": 899,
   "metadata": {},
   "outputs": [
    {
     "data": {
      "image/png": "[encoded data removed]",
      "text/plain": [
       "<Figure size 432x288 with 6 Axes>"
      ]
     },
     "metadata": {
      "needs_background": "light"
     },
     "output_type": "display_data"
    }
   ],
   "source": [
    "fig, axs = plt.subplots(2,3)\n",
    "fig.suptitle(\"Nr, N, N1, N2, and N3\")\n",
    "fig.tight_layout()\n",
    "\n",
    "axs[0,0].scatter(*zip(*Nr), color = 'red')\n",
    "axs[0,0].set_title(\"Nr\")\n",
    "axs[0,1].scatter(*zip(*N), color = 'red')\n",
    "axs[0,1].set_title(\"N\")\n",
    "axs[1,0].scatter(*zip(*N1), color = 'red')\n",
    "axs[1,0].set_title(\"N1\")\n",
    "axs[1,1].scatter(*zip(*N2), color = 'red')\n",
    "axs[1,1].set_title(\"N2\")\n",
    "axs[1,2].scatter(*zip(*N3), color = 'red')\n",
    "axs[1,2].set_title(\"N3\")\n",
    "axs[0,2].set_visible(False)"
   ]
  },
  {
   "cell_type": "markdown",
   "metadata": {},
   "source": [
    "## K-NN Classification"
   ]
  },
  {
   "cell_type": "markdown",
   "metadata": {},
   "source": [
    "### Obtain 60% training dTrn, 20% validation dVal, 20% test dTst for each data set per class:"
   ]
  },
  {
   "cell_type": "code",
   "execution_count": 900,
   "metadata": {},
   "outputs": [],
   "source": [
    "def getData(pInput,pRatio, class_):\n",
    "    #complete as needed\n",
    "    #return dTrn, dVal, dTst\n",
    "    #pRatio = (0.6, 0.2, 0.3) as an example\n",
    "    \n",
    "    dTrn, dTstandVal = train_test_split(pInput, train_size = pRatio[0], test_size = 1-pRatio[0] )\n",
    "    dTst, dVal = train_test_split(dTstandVal, train_size =.5, test_size = .5)\n",
    "    \n",
    "    for i in range(0,len(class_)):\n",
    "        if(class_[i] == 'positive'):\n",
    "            class_[i] = 0\n",
    "        else:\n",
    "            class_[i] = 1\n",
    "    \n",
    "    dTrn = pd.DataFrame(data = [dTrn.T[0], dTrn.T[1], class_[0:len(dTrn)]]).T\n",
    "    dTst = pd.DataFrame(data = [dTst.T[0], dTst.T[1], class_[0:len(dTst)]]).T\n",
    "    dVal = pd.DataFrame(data = [dVal.T[0], dVal.T[1], class_[0:len(dVal)]]).T\n",
    "        \n",
    "    return dTrn, dVal, dTst \n"
   ]
  },
  {
   "cell_type": "markdown",
   "metadata": {},
   "source": [
    "### Explore K-NN Classifiers"
   ]
  },
  {
   "cell_type": "code",
   "execution_count": 901,
   "metadata": {},
   "outputs": [
    {
     "data": {
      "text/plain": [
       "'\\nPerformance measures: Sensitivity, specificity, AUC, F1\\n\\nDefine a function knnClassifier(pTrn, pVal, pTst, eps, *kwargs)\\nk = 2\\nLoop: Increase k by 1 until the accuracy change is less than eps:<br>\\n   Generate Model\\n   Obtain contingency table based on validation data set\\n   Calculate accuracy over validation data set\\n   Calculate accuracy change \"ac\"\\n   if ac < eps:\\n       Obtain contingency table for testing data set\\n       Calculate performance measures for testing data set\\n       Plot ROC\\n       Plot accuracy-K chart\\n       return (k, performance measures, contingency table, others as needed)\\n   else:\\n       k = k + 1\\n   #\\n#   \\n'"
      ]
     },
     "execution_count": 901,
     "metadata": {},
     "output_type": "execute_result"
    }
   ],
   "source": [
    "'''\n",
    "Performance measures: Sensitivity, specificity, AUC, F1\n",
    "\n",
    "Define a function knnClassifier(pTrn, pVal, pTst, eps, *kwargs)\n",
    "k = 2\n",
    "Loop: Increase k by 1 until the accuracy change is less than eps:<br>\n",
    "   Generate Model\n",
    "   Obtain contingency table based on validation data set\n",
    "   Calculate accuracy over validation data set\n",
    "   Calculate accuracy change \"ac\"\n",
    "   if ac < eps:\n",
    "       Obtain contingency table for testing data set\n",
    "       Calculate performance measures for testing data set\n",
    "       Plot ROC\n",
    "       Plot accuracy-K chart\n",
    "       return (k, performance measures, contingency table, others as needed)\n",
    "   else:\n",
    "       k = k + 1\n",
    "   #\n",
    "#   \n",
    "'''"
   ]
  },
  {
   "cell_type": "code",
   "execution_count": 906,
   "metadata": {},
   "outputs": [],
   "source": [
    "def knnClassifier(pTrn, pVal, pTst, eps, *kwargs):\n",
    "    #complete as needed\n",
    "    #return the model and performance measures\n",
    "\n",
    "    k_iters = 2\n",
    "    looper = True\n",
    "    prev_Acc = 100.1\n",
    "    k_List = []\n",
    "    acc_List = []\n",
    "    while(looper):\n",
    "        k_Neighbor = KNeighborsClassifier(n_neighbors = k_iters, weights = 'distance', algorithm = 'auto', p = 2)\n",
    "        k_Neighbor_fit = k_Neighbor.fit(pTrn,pTrn.iloc[:,2])\n",
    "        \n",
    "        #Predicting based on validation\n",
    "        pVal_results = k_Neighbor.predict(pVal)\n",
    "        #print(pVal_results)\n",
    "        \n",
    "        # Creating contingency table for validation and placing into DataFrame for reading\n",
    "        #con_Table_pVal = pd.DataFrame(chi2_contingency(pVal), index = ['Chi^2 Stat', 'P Value', 'Degrees of Freedom','Expected Frequencies'])\n",
    "        con_Table_pVal = pd.crosstab(pVal_results, pVal.iloc[:,2])\n",
    "        con_Table_pVal = con_Table_pVal.T\n",
    "        #con_Table_pVal.rename(columns = {'Chi^2 Stat', 'P Value', 'Degrees of Freedom','Expected Frequencies'}, inplace = True)\n",
    "        print(display(con_Table_pVal))\n",
    "        \n",
    "        #Calculating accuracy and accuracy change\n",
    "        accuracy = k_Neighbor.score(pVal, pVal.iloc[:,2])\n",
    "        acc_Change = prev_Acc - accuracy\n",
    "        \n",
    "        acc_List.append(accuracy)\n",
    "        print(\"Accuracy for iteration \" + str(k_iters) + \":\",accuracy)\n",
    "        \n",
    "        k_List.append(k_iters)\n",
    "        \n",
    "        if(acc_Change < eps and k_iters != 2):\n",
    "            #Predicting against Test\n",
    "            pTst_results = k_Neighbor.predict(pTst)\n",
    "            \n",
    "            #Creating contingency table for test and placing into DataFrame for reading\n",
    "            #con_Table_pTst = pd.DataFrame(chi2_contingency(pTst), index = ['Chi^2 Stat', 'P Value', 'Degrees of Freedom','Expected Frequencies'])\n",
    "            con_Table_pTst = pd.crosstab(pTst_results, pTst.iloc[:,2])\n",
    "            con_Table_pTst = con_Table_pTst.T\n",
    "            print(display(con_Table_pTst), \"\\n\")\n",
    "            \n",
    "            #Calculate Specificity and Sensitivity\n",
    "            tn, fp, fn, tp = metrics.confusion_matrix(pTst.iloc[:,2], pTst_results).ravel()\n",
    "            spec = tn/(tn + fp)\n",
    "            sens = tp/(tp + fn)\n",
    "            print(\"Specificity is\", spec)\n",
    "            print(\"Sensitivity is\", sens)\n",
    "            \n",
    "            #Finding AUC\n",
    "            false_Pos, true_Pos, thresh = metrics.roc_curve(pTst.iloc[:,2],pTst_results)\n",
    "            auc = metrics.auc(false_Pos, true_Pos)\n",
    "            print(\"Area Under ROC curve:\", auc)\n",
    "            \n",
    "            #Finding F1\n",
    "            f1_score = metrics.f1_score(pTst.iloc[:,2],pTst_results)\n",
    "            print(\"F1 Score:\", f1_score)\n",
    "            \n",
    "            #Plotting ROC\n",
    "            metrics.plot_roc_curve(k_Neighbor_fit,pTst, pTst.iloc[:,2])\n",
    "            plt.show()\n",
    "            \n",
    "            #Plotting accuracy-k\n",
    "            plt.title(\"Accuracy-K chart\")\n",
    "            plt.plot(k_List,acc_List)\n",
    "            plt.xlabel(\"K Iterations\")\n",
    "            plt.xlim(2,k_iters)\n",
    "            plt.ylabel(\"Accuracy\")\n",
    "            plt.ylim(0.7, 1)\n",
    "            plt.show()\n",
    "            \n",
    "            looper = False\n",
    "        else:\n",
    "            prev_Acc = accuracy\n",
    "            k_iters = k_iters + 1\n",
    "            "
   ]
  },
  {
   "cell_type": "markdown",
   "metadata": {},
   "source": [
    "### Run experiments for each data set {(Pr, Nr), (P, N), (P1, N1), (P2, N2), (P3, N3)}"
   ]
  },
  {
   "cell_type": "code",
   "execution_count": 903,
   "metadata": {},
   "outputs": [
    {
     "data": {
      "text/plain": [
       "'\\nFor each data set (Pi, Ni)\\n   Get training, validation, test data sets\\n   Find the best model\\n   Obtain contingency table\\n   Calculate performance measures for the test data set\\n   Plot ROC\\n   Plot accuracy-K chart\\n'"
      ]
     },
     "execution_count": 903,
     "metadata": {},
     "output_type": "execute_result"
    }
   ],
   "source": [
    "'''\n",
    "For each data set (Pi, Ni)\n",
    "   Get training, validation, test data sets\n",
    "   Find the best model\n",
    "   Obtain contingency table\n",
    "   Calculate performance measures for the test data set\n",
    "   Plot ROC\n",
    "   Plot accuracy-K chart\n",
    "'''"
   ]
  },
  {
   "cell_type": "code",
   "execution_count": 911,
   "metadata": {},
   "outputs": [
    {
     "name": "stdout",
     "output_type": "stream",
     "text": [
      "Data Set: Pr and Nr\n"
     ]
    },
    {
     "data": {
      "text/html": [
       "<div>\n",
       "<style scoped>\n",
       "    .dataframe tbody tr th:only-of-type {\n",
       "        vertical-align: middle;\n",
       "    }\n",
       "\n",
       "    .dataframe tbody tr th {\n",
       "        vertical-align: top;\n",
       "    }\n",
       "\n",
       "    .dataframe thead th {\n",
       "        text-align: right;\n",
       "    }\n",
       "</style>\n",
       "<table border=\"1\" class=\"dataframe\">\n",
       "  <thead>\n",
       "    <tr style=\"text-align: right;\">\n",
       "      <th>row_0</th>\n",
       "      <th>0.0</th>\n",
       "      <th>1.0</th>\n",
       "    </tr>\n",
       "    <tr>\n",
       "      <th>2</th>\n",
       "      <th></th>\n",
       "      <th></th>\n",
       "    </tr>\n",
       "  </thead>\n",
       "  <tbody>\n",
       "    <tr>\n",
       "      <th>0.0</th>\n",
       "      <td>20</td>\n",
       "      <td>0</td>\n",
       "    </tr>\n",
       "    <tr>\n",
       "      <th>1.0</th>\n",
       "      <td>3</td>\n",
       "      <td>17</td>\n",
       "    </tr>\n",
       "  </tbody>\n",
       "</table>\n",
       "</div>"
      ],
      "text/plain": [
       "row_0  0.0  1.0\n",
       "2              \n",
       "0.0     20    0\n",
       "1.0      3   17"
      ]
     },
     "metadata": {},
     "output_type": "display_data"
    },
    {
     "name": "stdout",
     "output_type": "stream",
     "text": [
      "None\n",
      "Accuracy for iteration 2: 0.925\n"
     ]
    },
    {
     "data": {
      "text/html": [
       "<div>\n",
       "<style scoped>\n",
       "    .dataframe tbody tr th:only-of-type {\n",
       "        vertical-align: middle;\n",
       "    }\n",
       "\n",
       "    .dataframe tbody tr th {\n",
       "        vertical-align: top;\n",
       "    }\n",
       "\n",
       "    .dataframe thead th {\n",
       "        text-align: right;\n",
       "    }\n",
       "</style>\n",
       "<table border=\"1\" class=\"dataframe\">\n",
       "  <thead>\n",
       "    <tr style=\"text-align: right;\">\n",
       "      <th>row_0</th>\n",
       "      <th>0.0</th>\n",
       "      <th>1.0</th>\n",
       "    </tr>\n",
       "    <tr>\n",
       "      <th>2</th>\n",
       "      <th></th>\n",
       "      <th></th>\n",
       "    </tr>\n",
       "  </thead>\n",
       "  <tbody>\n",
       "    <tr>\n",
       "      <th>0.0</th>\n",
       "      <td>19</td>\n",
       "      <td>1</td>\n",
       "    </tr>\n",
       "    <tr>\n",
       "      <th>1.0</th>\n",
       "      <td>3</td>\n",
       "      <td>17</td>\n",
       "    </tr>\n",
       "  </tbody>\n",
       "</table>\n",
       "</div>"
      ],
      "text/plain": [
       "row_0  0.0  1.0\n",
       "2              \n",
       "0.0     19    1\n",
       "1.0      3   17"
      ]
     },
     "metadata": {},
     "output_type": "display_data"
    },
    {
     "name": "stdout",
     "output_type": "stream",
     "text": [
      "None\n",
      "Accuracy for iteration 3: 0.9\n"
     ]
    },
    {
     "data": {
      "text/html": [
       "<div>\n",
       "<style scoped>\n",
       "    .dataframe tbody tr th:only-of-type {\n",
       "        vertical-align: middle;\n",
       "    }\n",
       "\n",
       "    .dataframe tbody tr th {\n",
       "        vertical-align: top;\n",
       "    }\n",
       "\n",
       "    .dataframe thead th {\n",
       "        text-align: right;\n",
       "    }\n",
       "</style>\n",
       "<table border=\"1\" class=\"dataframe\">\n",
       "  <thead>\n",
       "    <tr style=\"text-align: right;\">\n",
       "      <th>row_0</th>\n",
       "      <th>0.0</th>\n",
       "      <th>1.0</th>\n",
       "    </tr>\n",
       "    <tr>\n",
       "      <th>2</th>\n",
       "      <th></th>\n",
       "      <th></th>\n",
       "    </tr>\n",
       "  </thead>\n",
       "  <tbody>\n",
       "    <tr>\n",
       "      <th>0.0</th>\n",
       "      <td>19</td>\n",
       "      <td>1</td>\n",
       "    </tr>\n",
       "    <tr>\n",
       "      <th>1.0</th>\n",
       "      <td>3</td>\n",
       "      <td>17</td>\n",
       "    </tr>\n",
       "  </tbody>\n",
       "</table>\n",
       "</div>"
      ],
      "text/plain": [
       "row_0  0.0  1.0\n",
       "2              \n",
       "0.0     19    1\n",
       "1.0      3   17"
      ]
     },
     "metadata": {},
     "output_type": "display_data"
    },
    {
     "name": "stdout",
     "output_type": "stream",
     "text": [
      "None\n",
      "Accuracy for iteration 4: 0.9\n"
     ]
    },
    {
     "data": {
      "text/html": [
       "<div>\n",
       "<style scoped>\n",
       "    .dataframe tbody tr th:only-of-type {\n",
       "        vertical-align: middle;\n",
       "    }\n",
       "\n",
       "    .dataframe tbody tr th {\n",
       "        vertical-align: top;\n",
       "    }\n",
       "\n",
       "    .dataframe thead th {\n",
       "        text-align: right;\n",
       "    }\n",
       "</style>\n",
       "<table border=\"1\" class=\"dataframe\">\n",
       "  <thead>\n",
       "    <tr style=\"text-align: right;\">\n",
       "      <th>row_0</th>\n",
       "      <th>0.0</th>\n",
       "      <th>1.0</th>\n",
       "    </tr>\n",
       "    <tr>\n",
       "      <th>2</th>\n",
       "      <th></th>\n",
       "      <th></th>\n",
       "    </tr>\n",
       "  </thead>\n",
       "  <tbody>\n",
       "    <tr>\n",
       "      <th>0.0</th>\n",
       "      <td>16</td>\n",
       "      <td>4</td>\n",
       "    </tr>\n",
       "    <tr>\n",
       "      <th>1.0</th>\n",
       "      <td>3</td>\n",
       "      <td>17</td>\n",
       "    </tr>\n",
       "  </tbody>\n",
       "</table>\n",
       "</div>"
      ],
      "text/plain": [
       "row_0  0.0  1.0\n",
       "2              \n",
       "0.0     16    4\n",
       "1.0      3   17"
      ]
     },
     "metadata": {},
     "output_type": "display_data"
    },
    {
     "name": "stdout",
     "output_type": "stream",
     "text": [
      "None \n",
      "\n",
      "Specificity is 0.8\n",
      "Sensitivity is 0.85\n",
      "Area Under ROC curve: 0.8250000000000001\n",
      "F1 Score: 0.8292682926829269\n"
     ]
    },
    {
     "data": {
      "image/png": "[encoded data removed]",
      "text/plain": [
       "<Figure size 432x288 with 1 Axes>"
      ]
     },
     "metadata": {
      "needs_background": "light"
     },
     "output_type": "display_data"
    },
    {
     "data": {
      "image/png": "[encoded data removed]",
      "text/plain": [
       "<Figure size 432x288 with 1 Axes>"
      ]
     },
     "metadata": {
      "needs_background": "light"
     },
     "output_type": "display_data"
    },
    {
     "name": "stdout",
     "output_type": "stream",
     "text": [
      "Data Set: P and N\n"
     ]
    },
    {
     "data": {
      "text/html": [
       "<div>\n",
       "<style scoped>\n",
       "    .dataframe tbody tr th:only-of-type {\n",
       "        vertical-align: middle;\n",
       "    }\n",
       "\n",
       "    .dataframe tbody tr th {\n",
       "        vertical-align: top;\n",
       "    }\n",
       "\n",
       "    .dataframe thead th {\n",
       "        text-align: right;\n",
       "    }\n",
       "</style>\n",
       "<table border=\"1\" class=\"dataframe\">\n",
       "  <thead>\n",
       "    <tr style=\"text-align: right;\">\n",
       "      <th>row_0</th>\n",
       "      <th>0.0</th>\n",
       "      <th>1.0</th>\n",
       "    </tr>\n",
       "    <tr>\n",
       "      <th>2</th>\n",
       "      <th></th>\n",
       "      <th></th>\n",
       "    </tr>\n",
       "  </thead>\n",
       "  <tbody>\n",
       "    <tr>\n",
       "      <th>0.0</th>\n",
       "      <td>17</td>\n",
       "      <td>3</td>\n",
       "    </tr>\n",
       "    <tr>\n",
       "      <th>1.0</th>\n",
       "      <td>3</td>\n",
       "      <td>17</td>\n",
       "    </tr>\n",
       "  </tbody>\n",
       "</table>\n",
       "</div>"
      ],
      "text/plain": [
       "row_0  0.0  1.0\n",
       "2              \n",
       "0.0     17    3\n",
       "1.0      3   17"
      ]
     },
     "metadata": {},
     "output_type": "display_data"
    },
    {
     "name": "stdout",
     "output_type": "stream",
     "text": [
      "None\n",
      "Accuracy for iteration 2: 0.85\n"
     ]
    },
    {
     "data": {
      "text/html": [
       "<div>\n",
       "<style scoped>\n",
       "    .dataframe tbody tr th:only-of-type {\n",
       "        vertical-align: middle;\n",
       "    }\n",
       "\n",
       "    .dataframe tbody tr th {\n",
       "        vertical-align: top;\n",
       "    }\n",
       "\n",
       "    .dataframe thead th {\n",
       "        text-align: right;\n",
       "    }\n",
       "</style>\n",
       "<table border=\"1\" class=\"dataframe\">\n",
       "  <thead>\n",
       "    <tr style=\"text-align: right;\">\n",
       "      <th>row_0</th>\n",
       "      <th>0.0</th>\n",
       "      <th>1.0</th>\n",
       "    </tr>\n",
       "    <tr>\n",
       "      <th>2</th>\n",
       "      <th></th>\n",
       "      <th></th>\n",
       "    </tr>\n",
       "  </thead>\n",
       "  <tbody>\n",
       "    <tr>\n",
       "      <th>0.0</th>\n",
       "      <td>18</td>\n",
       "      <td>2</td>\n",
       "    </tr>\n",
       "    <tr>\n",
       "      <th>1.0</th>\n",
       "      <td>1</td>\n",
       "      <td>19</td>\n",
       "    </tr>\n",
       "  </tbody>\n",
       "</table>\n",
       "</div>"
      ],
      "text/plain": [
       "row_0  0.0  1.0\n",
       "2              \n",
       "0.0     18    2\n",
       "1.0      1   19"
      ]
     },
     "metadata": {},
     "output_type": "display_data"
    },
    {
     "name": "stdout",
     "output_type": "stream",
     "text": [
      "None\n",
      "Accuracy for iteration 3: 0.925\n"
     ]
    },
    {
     "data": {
      "text/html": [
       "<div>\n",
       "<style scoped>\n",
       "    .dataframe tbody tr th:only-of-type {\n",
       "        vertical-align: middle;\n",
       "    }\n",
       "\n",
       "    .dataframe tbody tr th {\n",
       "        vertical-align: top;\n",
       "    }\n",
       "\n",
       "    .dataframe thead th {\n",
       "        text-align: right;\n",
       "    }\n",
       "</style>\n",
       "<table border=\"1\" class=\"dataframe\">\n",
       "  <thead>\n",
       "    <tr style=\"text-align: right;\">\n",
       "      <th>row_0</th>\n",
       "      <th>0.0</th>\n",
       "      <th>1.0</th>\n",
       "    </tr>\n",
       "    <tr>\n",
       "      <th>2</th>\n",
       "      <th></th>\n",
       "      <th></th>\n",
       "    </tr>\n",
       "  </thead>\n",
       "  <tbody>\n",
       "    <tr>\n",
       "      <th>0.0</th>\n",
       "      <td>19</td>\n",
       "      <td>1</td>\n",
       "    </tr>\n",
       "    <tr>\n",
       "      <th>1.0</th>\n",
       "      <td>4</td>\n",
       "      <td>16</td>\n",
       "    </tr>\n",
       "  </tbody>\n",
       "</table>\n",
       "</div>"
      ],
      "text/plain": [
       "row_0  0.0  1.0\n",
       "2              \n",
       "0.0     19    1\n",
       "1.0      4   16"
      ]
     },
     "metadata": {},
     "output_type": "display_data"
    },
    {
     "name": "stdout",
     "output_type": "stream",
     "text": [
      "None \n",
      "\n",
      "Specificity is 0.95\n",
      "Sensitivity is 0.8\n",
      "Area Under ROC curve: 0.875\n",
      "F1 Score: 0.8648648648648648\n"
     ]
    },
    {
     "data": {
      "image/png": "[encoded data removed]",
      "text/plain": [
       "<Figure size 432x288 with 1 Axes>"
      ]
     },
     "metadata": {
      "needs_background": "light"
     },
     "output_type": "display_data"
    },
    {
     "data": {
      "image/png": "[encoded data removed]",
      "text/plain": [
       "<Figure size 432x288 with 1 Axes>"
      ]
     },
     "metadata": {
      "needs_background": "light"
     },
     "output_type": "display_data"
    },
    {
     "name": "stdout",
     "output_type": "stream",
     "text": [
      "Data Set: P1 and N1\n"
     ]
    },
    {
     "data": {
      "text/html": [
       "<div>\n",
       "<style scoped>\n",
       "    .dataframe tbody tr th:only-of-type {\n",
       "        vertical-align: middle;\n",
       "    }\n",
       "\n",
       "    .dataframe tbody tr th {\n",
       "        vertical-align: top;\n",
       "    }\n",
       "\n",
       "    .dataframe thead th {\n",
       "        text-align: right;\n",
       "    }\n",
       "</style>\n",
       "<table border=\"1\" class=\"dataframe\">\n",
       "  <thead>\n",
       "    <tr style=\"text-align: right;\">\n",
       "      <th>row_0</th>\n",
       "      <th>0.0</th>\n",
       "      <th>1.0</th>\n",
       "    </tr>\n",
       "    <tr>\n",
       "      <th>2</th>\n",
       "      <th></th>\n",
       "      <th></th>\n",
       "    </tr>\n",
       "  </thead>\n",
       "  <tbody>\n",
       "    <tr>\n",
       "      <th>0.0</th>\n",
       "      <td>20</td>\n",
       "      <td>0</td>\n",
       "    </tr>\n",
       "    <tr>\n",
       "      <th>1.0</th>\n",
       "      <td>0</td>\n",
       "      <td>20</td>\n",
       "    </tr>\n",
       "  </tbody>\n",
       "</table>\n",
       "</div>"
      ],
      "text/plain": [
       "row_0  0.0  1.0\n",
       "2              \n",
       "0.0     20    0\n",
       "1.0      0   20"
      ]
     },
     "metadata": {},
     "output_type": "display_data"
    },
    {
     "name": "stdout",
     "output_type": "stream",
     "text": [
      "None\n",
      "Accuracy for iteration 2: 1.0\n"
     ]
    },
    {
     "data": {
      "text/html": [
       "<div>\n",
       "<style scoped>\n",
       "    .dataframe tbody tr th:only-of-type {\n",
       "        vertical-align: middle;\n",
       "    }\n",
       "\n",
       "    .dataframe tbody tr th {\n",
       "        vertical-align: top;\n",
       "    }\n",
       "\n",
       "    .dataframe thead th {\n",
       "        text-align: right;\n",
       "    }\n",
       "</style>\n",
       "<table border=\"1\" class=\"dataframe\">\n",
       "  <thead>\n",
       "    <tr style=\"text-align: right;\">\n",
       "      <th>row_0</th>\n",
       "      <th>0.0</th>\n",
       "      <th>1.0</th>\n",
       "    </tr>\n",
       "    <tr>\n",
       "      <th>2</th>\n",
       "      <th></th>\n",
       "      <th></th>\n",
       "    </tr>\n",
       "  </thead>\n",
       "  <tbody>\n",
       "    <tr>\n",
       "      <th>0.0</th>\n",
       "      <td>20</td>\n",
       "      <td>0</td>\n",
       "    </tr>\n",
       "    <tr>\n",
       "      <th>1.0</th>\n",
       "      <td>0</td>\n",
       "      <td>20</td>\n",
       "    </tr>\n",
       "  </tbody>\n",
       "</table>\n",
       "</div>"
      ],
      "text/plain": [
       "row_0  0.0  1.0\n",
       "2              \n",
       "0.0     20    0\n",
       "1.0      0   20"
      ]
     },
     "metadata": {},
     "output_type": "display_data"
    },
    {
     "name": "stdout",
     "output_type": "stream",
     "text": [
      "None\n",
      "Accuracy for iteration 3: 1.0\n"
     ]
    },
    {
     "data": {
      "text/html": [
       "<div>\n",
       "<style scoped>\n",
       "    .dataframe tbody tr th:only-of-type {\n",
       "        vertical-align: middle;\n",
       "    }\n",
       "\n",
       "    .dataframe tbody tr th {\n",
       "        vertical-align: top;\n",
       "    }\n",
       "\n",
       "    .dataframe thead th {\n",
       "        text-align: right;\n",
       "    }\n",
       "</style>\n",
       "<table border=\"1\" class=\"dataframe\">\n",
       "  <thead>\n",
       "    <tr style=\"text-align: right;\">\n",
       "      <th>row_0</th>\n",
       "      <th>0.0</th>\n",
       "      <th>1.0</th>\n",
       "    </tr>\n",
       "    <tr>\n",
       "      <th>2</th>\n",
       "      <th></th>\n",
       "      <th></th>\n",
       "    </tr>\n",
       "  </thead>\n",
       "  <tbody>\n",
       "    <tr>\n",
       "      <th>0.0</th>\n",
       "      <td>20</td>\n",
       "      <td>0</td>\n",
       "    </tr>\n",
       "    <tr>\n",
       "      <th>1.0</th>\n",
       "      <td>0</td>\n",
       "      <td>20</td>\n",
       "    </tr>\n",
       "  </tbody>\n",
       "</table>\n",
       "</div>"
      ],
      "text/plain": [
       "row_0  0.0  1.0\n",
       "2              \n",
       "0.0     20    0\n",
       "1.0      0   20"
      ]
     },
     "metadata": {},
     "output_type": "display_data"
    },
    {
     "name": "stdout",
     "output_type": "stream",
     "text": [
      "None \n",
      "\n",
      "Specificity is 1.0\n",
      "Sensitivity is 1.0\n",
      "Area Under ROC curve: 1.0\n",
      "F1 Score: 1.0\n"
     ]
    },
    {
     "data": {
      "image/png": "[encoded data removed]",
      "text/plain": [
       "<Figure size 432x288 with 1 Axes>"
      ]
     },
     "metadata": {
      "needs_background": "light"
     },
     "output_type": "display_data"
    },
    {
     "data": {
      "image/png": "[encoded data removed]",
      "text/plain": [
       "<Figure size 432x288 with 1 Axes>"
      ]
     },
     "metadata": {
      "needs_background": "light"
     },
     "output_type": "display_data"
    },
    {
     "name": "stdout",
     "output_type": "stream",
     "text": [
      "Data Set: P2 and N2\n"
     ]
    },
    {
     "data": {
      "text/html": [
       "<div>\n",
       "<style scoped>\n",
       "    .dataframe tbody tr th:only-of-type {\n",
       "        vertical-align: middle;\n",
       "    }\n",
       "\n",
       "    .dataframe tbody tr th {\n",
       "        vertical-align: top;\n",
       "    }\n",
       "\n",
       "    .dataframe thead th {\n",
       "        text-align: right;\n",
       "    }\n",
       "</style>\n",
       "<table border=\"1\" class=\"dataframe\">\n",
       "  <thead>\n",
       "    <tr style=\"text-align: right;\">\n",
       "      <th>row_0</th>\n",
       "      <th>0.0</th>\n",
       "      <th>1.0</th>\n",
       "    </tr>\n",
       "    <tr>\n",
       "      <th>2</th>\n",
       "      <th></th>\n",
       "      <th></th>\n",
       "    </tr>\n",
       "  </thead>\n",
       "  <tbody>\n",
       "    <tr>\n",
       "      <th>0.0</th>\n",
       "      <td>20</td>\n",
       "      <td>0</td>\n",
       "    </tr>\n",
       "    <tr>\n",
       "      <th>1.0</th>\n",
       "      <td>0</td>\n",
       "      <td>20</td>\n",
       "    </tr>\n",
       "  </tbody>\n",
       "</table>\n",
       "</div>"
      ],
      "text/plain": [
       "row_0  0.0  1.0\n",
       "2              \n",
       "0.0     20    0\n",
       "1.0      0   20"
      ]
     },
     "metadata": {},
     "output_type": "display_data"
    },
    {
     "name": "stdout",
     "output_type": "stream",
     "text": [
      "None\n",
      "Accuracy for iteration 2: 1.0\n"
     ]
    },
    {
     "data": {
      "text/html": [
       "<div>\n",
       "<style scoped>\n",
       "    .dataframe tbody tr th:only-of-type {\n",
       "        vertical-align: middle;\n",
       "    }\n",
       "\n",
       "    .dataframe tbody tr th {\n",
       "        vertical-align: top;\n",
       "    }\n",
       "\n",
       "    .dataframe thead th {\n",
       "        text-align: right;\n",
       "    }\n",
       "</style>\n",
       "<table border=\"1\" class=\"dataframe\">\n",
       "  <thead>\n",
       "    <tr style=\"text-align: right;\">\n",
       "      <th>row_0</th>\n",
       "      <th>0.0</th>\n",
       "      <th>1.0</th>\n",
       "    </tr>\n",
       "    <tr>\n",
       "      <th>2</th>\n",
       "      <th></th>\n",
       "      <th></th>\n",
       "    </tr>\n",
       "  </thead>\n",
       "  <tbody>\n",
       "    <tr>\n",
       "      <th>0.0</th>\n",
       "      <td>20</td>\n",
       "      <td>0</td>\n",
       "    </tr>\n",
       "    <tr>\n",
       "      <th>1.0</th>\n",
       "      <td>0</td>\n",
       "      <td>20</td>\n",
       "    </tr>\n",
       "  </tbody>\n",
       "</table>\n",
       "</div>"
      ],
      "text/plain": [
       "row_0  0.0  1.0\n",
       "2              \n",
       "0.0     20    0\n",
       "1.0      0   20"
      ]
     },
     "metadata": {},
     "output_type": "display_data"
    },
    {
     "name": "stdout",
     "output_type": "stream",
     "text": [
      "None\n",
      "Accuracy for iteration 3: 1.0\n"
     ]
    },
    {
     "data": {
      "text/html": [
       "<div>\n",
       "<style scoped>\n",
       "    .dataframe tbody tr th:only-of-type {\n",
       "        vertical-align: middle;\n",
       "    }\n",
       "\n",
       "    .dataframe tbody tr th {\n",
       "        vertical-align: top;\n",
       "    }\n",
       "\n",
       "    .dataframe thead th {\n",
       "        text-align: right;\n",
       "    }\n",
       "</style>\n",
       "<table border=\"1\" class=\"dataframe\">\n",
       "  <thead>\n",
       "    <tr style=\"text-align: right;\">\n",
       "      <th>row_0</th>\n",
       "      <th>0.0</th>\n",
       "      <th>1.0</th>\n",
       "    </tr>\n",
       "    <tr>\n",
       "      <th>2</th>\n",
       "      <th></th>\n",
       "      <th></th>\n",
       "    </tr>\n",
       "  </thead>\n",
       "  <tbody>\n",
       "    <tr>\n",
       "      <th>0.0</th>\n",
       "      <td>20</td>\n",
       "      <td>0</td>\n",
       "    </tr>\n",
       "    <tr>\n",
       "      <th>1.0</th>\n",
       "      <td>0</td>\n",
       "      <td>20</td>\n",
       "    </tr>\n",
       "  </tbody>\n",
       "</table>\n",
       "</div>"
      ],
      "text/plain": [
       "row_0  0.0  1.0\n",
       "2              \n",
       "0.0     20    0\n",
       "1.0      0   20"
      ]
     },
     "metadata": {},
     "output_type": "display_data"
    },
    {
     "name": "stdout",
     "output_type": "stream",
     "text": [
      "None \n",
      "\n",
      "Specificity is 1.0\n",
      "Sensitivity is 1.0\n",
      "Area Under ROC curve: 1.0\n",
      "F1 Score: 1.0\n"
     ]
    },
    {
     "data": {
      "image/png": "[encoded data removed]",
      "text/plain": [
       "<Figure size 432x288 with 1 Axes>"
      ]
     },
     "metadata": {
      "needs_background": "light"
     },
     "output_type": "display_data"
    },
    {
     "data": {
      "image/png": "[encoded data removed]",
      "text/plain": [
       "<Figure size 432x288 with 1 Axes>"
      ]
     },
     "metadata": {
      "needs_background": "light"
     },
     "output_type": "display_data"
    },
    {
     "name": "stdout",
     "output_type": "stream",
     "text": [
      "Data Set: P3 and N3\n"
     ]
    },
    {
     "data": {
      "text/html": [
       "<div>\n",
       "<style scoped>\n",
       "    .dataframe tbody tr th:only-of-type {\n",
       "        vertical-align: middle;\n",
       "    }\n",
       "\n",
       "    .dataframe tbody tr th {\n",
       "        vertical-align: top;\n",
       "    }\n",
       "\n",
       "    .dataframe thead th {\n",
       "        text-align: right;\n",
       "    }\n",
       "</style>\n",
       "<table border=\"1\" class=\"dataframe\">\n",
       "  <thead>\n",
       "    <tr style=\"text-align: right;\">\n",
       "      <th>row_0</th>\n",
       "      <th>0.0</th>\n",
       "      <th>1.0</th>\n",
       "    </tr>\n",
       "    <tr>\n",
       "      <th>2</th>\n",
       "      <th></th>\n",
       "      <th></th>\n",
       "    </tr>\n",
       "  </thead>\n",
       "  <tbody>\n",
       "    <tr>\n",
       "      <th>0.0</th>\n",
       "      <td>20</td>\n",
       "      <td>0</td>\n",
       "    </tr>\n",
       "    <tr>\n",
       "      <th>1.0</th>\n",
       "      <td>0</td>\n",
       "      <td>20</td>\n",
       "    </tr>\n",
       "  </tbody>\n",
       "</table>\n",
       "</div>"
      ],
      "text/plain": [
       "row_0  0.0  1.0\n",
       "2              \n",
       "0.0     20    0\n",
       "1.0      0   20"
      ]
     },
     "metadata": {},
     "output_type": "display_data"
    },
    {
     "name": "stdout",
     "output_type": "stream",
     "text": [
      "None\n",
      "Accuracy for iteration 2: 1.0\n"
     ]
    },
    {
     "data": {
      "text/html": [
       "<div>\n",
       "<style scoped>\n",
       "    .dataframe tbody tr th:only-of-type {\n",
       "        vertical-align: middle;\n",
       "    }\n",
       "\n",
       "    .dataframe tbody tr th {\n",
       "        vertical-align: top;\n",
       "    }\n",
       "\n",
       "    .dataframe thead th {\n",
       "        text-align: right;\n",
       "    }\n",
       "</style>\n",
       "<table border=\"1\" class=\"dataframe\">\n",
       "  <thead>\n",
       "    <tr style=\"text-align: right;\">\n",
       "      <th>row_0</th>\n",
       "      <th>0.0</th>\n",
       "      <th>1.0</th>\n",
       "    </tr>\n",
       "    <tr>\n",
       "      <th>2</th>\n",
       "      <th></th>\n",
       "      <th></th>\n",
       "    </tr>\n",
       "  </thead>\n",
       "  <tbody>\n",
       "    <tr>\n",
       "      <th>0.0</th>\n",
       "      <td>20</td>\n",
       "      <td>0</td>\n",
       "    </tr>\n",
       "    <tr>\n",
       "      <th>1.0</th>\n",
       "      <td>0</td>\n",
       "      <td>20</td>\n",
       "    </tr>\n",
       "  </tbody>\n",
       "</table>\n",
       "</div>"
      ],
      "text/plain": [
       "row_0  0.0  1.0\n",
       "2              \n",
       "0.0     20    0\n",
       "1.0      0   20"
      ]
     },
     "metadata": {},
     "output_type": "display_data"
    },
    {
     "name": "stdout",
     "output_type": "stream",
     "text": [
      "None\n",
      "Accuracy for iteration 3: 1.0\n"
     ]
    },
    {
     "data": {
      "text/html": [
       "<div>\n",
       "<style scoped>\n",
       "    .dataframe tbody tr th:only-of-type {\n",
       "        vertical-align: middle;\n",
       "    }\n",
       "\n",
       "    .dataframe tbody tr th {\n",
       "        vertical-align: top;\n",
       "    }\n",
       "\n",
       "    .dataframe thead th {\n",
       "        text-align: right;\n",
       "    }\n",
       "</style>\n",
       "<table border=\"1\" class=\"dataframe\">\n",
       "  <thead>\n",
       "    <tr style=\"text-align: right;\">\n",
       "      <th>row_0</th>\n",
       "      <th>0.0</th>\n",
       "      <th>1.0</th>\n",
       "    </tr>\n",
       "    <tr>\n",
       "      <th>2</th>\n",
       "      <th></th>\n",
       "      <th></th>\n",
       "    </tr>\n",
       "  </thead>\n",
       "  <tbody>\n",
       "    <tr>\n",
       "      <th>0.0</th>\n",
       "      <td>19</td>\n",
       "      <td>1</td>\n",
       "    </tr>\n",
       "    <tr>\n",
       "      <th>1.0</th>\n",
       "      <td>0</td>\n",
       "      <td>20</td>\n",
       "    </tr>\n",
       "  </tbody>\n",
       "</table>\n",
       "</div>"
      ],
      "text/plain": [
       "row_0  0.0  1.0\n",
       "2              \n",
       "0.0     19    1\n",
       "1.0      0   20"
      ]
     },
     "metadata": {},
     "output_type": "display_data"
    },
    {
     "name": "stdout",
     "output_type": "stream",
     "text": [
      "None \n",
      "\n",
      "Specificity is 0.95\n",
      "Sensitivity is 1.0\n",
      "Area Under ROC curve: 0.975\n",
      "F1 Score: 0.975609756097561\n"
     ]
    },
    {
     "data": {
      "image/png": "[encoded data removed]",
      "text/plain": [
       "<Figure size 432x288 with 1 Axes>"
      ]
     },
     "metadata": {
      "needs_background": "light"
     },
     "output_type": "display_data"
    },
    {
     "data": {
      "image/png": "[encoded data removed]",
      "text/plain": [
       "<Figure size 432x288 with 1 Axes>"
      ]
     },
     "metadata": {
      "needs_background": "light"
     },
     "output_type": "display_data"
    }
   ],
   "source": [
    "data = [Pr, Nr, P, N, P1, N1, P2, N2, P3, N3]\n",
    "data_name = ['Pr', 'Nr', 'P', 'N', 'P1', 'N1', 'P2', 'N2', 'P3', 'N3']\n",
    "\n",
    "for i in range(0,len(data),2):\n",
    "    pdTrn, pdVal, pdTst = getData(data[i], [0.6, 0.2, 0.2], ['positive']*100)\n",
    "    ndTrn, ndVal, ndTst = getData(data[i+1], [0.6, 0.2, 0.2], ['negative']*100)\n",
    "\n",
    "    pTrn = pd.concat([pdTrn, ndTrn])\n",
    "    pVal = pd.concat([pdVal, ndVal])\n",
    "    pTst = pd.concat([pdTst, ndTst])\n",
    "    \n",
    "    print(\"Data Set: \"+ data_name[i] + \" and \" + data_name[i+1])\n",
    "    \n",
    "    knnClassifier(pTrn,pVal,pTst,0.01)"
   ]
  },
  {
   "cell_type": "markdown",
   "metadata": {},
   "source": [
    "## Discussion\n",
    "Discuss how scaling affects the classification performance of K-NN classifier based on each performance measures "
   ]
  },
  {
   "cell_type": "markdown",
   "metadata": {},
   "source": [
    "Pr and Nr:\n",
    "    These 2 are different data sets that were not scaled, therefore there was no effect.\n",
    "\n",
    "P and N:\n",
    "    For these, all we did was rotate Pr and Nr, so the data sets were still different and therefore.\n",
    "    \n",
    "P1 and N1, P2 and N2, P3 and N3:\n",
    "    For each accompaning set, scaling the data between 0 and 1 or -1 and 1 made the x demension shifting negligable in the resulting sets. Therefore the P sets and the N sets were equivalent. Because these sets were basically equivalent, the KNN Classifier was essentially guessing with a 50% chance for each."
   ]
  },
  {
   "cell_type": "markdown",
   "metadata": {
    "collapsed": true
   },
   "source": [
    "## <center> REFERENCES </center>\n",
    "List resources (book, internet page, etc.) that you used to complete this challenge."
   ]
  },
  {
   "cell_type": "markdown",
   "metadata": {},
   "source": [
    "https://www.w3schools.com/python/python_ml_train_test.asp\n",
    "https://scikit-learn.org/stable/modules/generated/sklearn.neighbors.KNeighborsClassifier.html\n",
    "https://scikit-learn.org/stable/modules/generated/sklearn.model_selection.train_test_split.html?highlight=split#sklearn.model_selection.train_test_split\n",
    "https://scikit-learn.org/stable/modules/generated/sklearn.neighbors.KNeighborsClassifier.html#sklearn.neighbors.KNeighborsClassifier.fit\n",
    "https://www.datacamp.com/community/tutorials/k-nearest-neighbor-classification-scikit-learn\n",
    "https://scikit-learn.org/stable/modules/generated/sklearn.metrics.accuracy_score.html\n",
    "https://scikit-learn.org/stable/modules/generated/sklearn.metrics.precision_score.html\n",
    "https://stackoverflow.com/questions/31324218/scikit-learn-how-to-obtain-true-positive-true-negative-false-positive-and-fal\n",
    "https://scikit-learn.org/stable/modules/generated/sklearn.metrics.auc.html\n",
    "https://scikit-learn.org/stable/modules/generated/sklearn.metrics.roc_auc_score.html#sklearn.metrics.roc_auc_score\n",
    "https://stackoverflow.com/questions/25009284/how-to-plot-roc-curve-in-python\n",
    "https://www.pluralsight.com/guides/data-visualization-deep-learning-model-using-matplotlib"
   ]
  },
  {
   "cell_type": "markdown",
   "metadata": {},
   "source": []
  }
 ],
 "metadata": {
  "kernelspec": {
   "display_name": "Python 3",
   "language": "python",
   "name": "python3"
  },
  "language_info": {
   "codemirror_mode": {
    "name": "ipython",
    "version": 3
   },
   "file_extension": ".py",
   "mimetype": "text/x-python",
   "name": "python",
   "nbconvert_exporter": "python",
   "pygments_lexer": "ipython3",
   "version": "3.8.5"
  }
 },
 "nbformat": 4,
 "nbformat_minor": 2
}
