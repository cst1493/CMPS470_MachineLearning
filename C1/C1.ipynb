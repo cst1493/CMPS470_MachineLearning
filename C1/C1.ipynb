{
 "cells": [
  {
   "cell_type": "markdown",
   "metadata": {},
   "source": [
    "# <center>Challenge 1<center>"
   ]
  },
  {
   "cell_type": "markdown",
   "metadata": {},
   "source": [
    "<p>Team Name:CK\n",
    "<p>Student Names: Austin Freeman and Cameron Tharpe\n",
    "<p>Student W#s:W0652871 and W0668972"
   ]
  },
  {
   "cell_type": "markdown",
   "metadata": {},
   "source": [
    "## Instructions\n",
    "Use generic coding style unless hard-coded values are really necessary.<br>\n",
    "Your code must be efficient and use self-explanatory naming.<br>\n",
    "Use appropriate Python library methods for each task instead of using loops.<br>\n",
    "Run your entire code and save. Then submit this <b>saved</b> copy."
   ]
  },
  {
   "cell_type": "markdown",
   "metadata": {
    "collapsed": true
   },
   "source": [
    "## Imports"
   ]
  },
  {
   "cell_type": "code",
   "execution_count": 137,
   "metadata": {},
   "outputs": [],
   "source": [
    "import array as arr\n",
    "import random\n",
    "from sklearn import preprocessing\n",
    "import numpy as np\n",
    "import math\n",
    "import pandas as pd\n",
    "\n",
    "#from sklearn.datasets import load_iris\n",
    "from sklearn.preprocessing import MinMaxScaler, StandardScaler\n",
    "from matplotlib import pyplot as plt"
   ]
  },
  {
   "cell_type": "markdown",
   "metadata": {},
   "source": [
    "# PART I"
   ]
  },
  {
   "cell_type": "markdown",
   "metadata": {},
   "source": [
    "## Prepare Data"
   ]
  },
  {
   "cell_type": "markdown",
   "metadata": {
    "collapsed": true
   },
   "source": [
    "<b>A. Create a data set D with 100 data points with the following attributes (features) as such:</b>\n",
    "\n",
    "a1 is from a normal distribution N(mean=20,var=4)<br>\n",
    "a2 is from a uniform distribution U(min=14,max=26)<br>"
   ]
  },
  {
   "cell_type": "code",
   "execution_count": 138,
   "metadata": {},
   "outputs": [
    {
     "name": "stdout",
     "output_type": "stream",
     "text": [
      "D: [[20.267607761863275, 25.84915455134677], [9.401611717255905, 18.460376923332277], [15.559317313764055, 19.165751630198997], [22.890851340720097, 15.41955573992449], [17.143418682031218, 22.06461340835145]]\n"
     ]
    }
   ],
   "source": [
    "#Creating data set D with a1 and a2\n",
    "\n",
    "D = []\n",
    "for i in range(5):\n",
    "    a1 = (np.random.normal(loc=20, scale=(4), size=None))\n",
    "    a2 = (np.random.uniform(low=14, high=26))\n",
    "    D.append([a1,a2])\n",
    "\n",
    "print(\"D:\", D)"
   ]
  },
  {
   "cell_type": "markdown",
   "metadata": {},
   "source": [
    "## Explore Data"
   ]
  },
  {
   "cell_type": "markdown",
   "metadata": {},
   "source": [
    "Apply min-max scaling to D, P1:"
   ]
  },
  {
   "cell_type": "code",
   "execution_count": 139,
   "metadata": {},
   "outputs": [
    {
     "name": "stdout",
     "output_type": "stream",
     "text": [
      "P1: \n",
      " [[0.80553066 1.        ]\n",
      " [0.         0.29155687]\n",
      " [0.45649019 0.35918888]\n",
      " [1.         0.        ]\n",
      " [0.57392464 0.63713454]]\n"
     ]
    }
   ],
   "source": [
    "Min_Max = MinMaxScaler()\n",
    "Min_Max.fit(D)\n",
    "\n",
    "P1 = Min_Max.transform(D)\n",
    "print(\"P1: \\n\", P1)"
   ]
  },
  {
   "cell_type": "markdown",
   "metadata": {},
   "source": [
    "Apply std-mean scaling to D, P2"
   ]
  },
  {
   "cell_type": "code",
   "execution_count": 140,
   "metadata": {},
   "outputs": [
    {
     "name": "stdout",
     "output_type": "stream",
     "text": [
      "P2: \n",
      " [[ 0.7009227   1.60219362]\n",
      " [-1.66800835 -0.4903819 ]\n",
      " [-0.32554698 -0.29061275]\n",
      " [ 1.27282454 -1.35157279]\n",
      " [ 0.0198081   0.53037382]]\n"
     ]
    }
   ],
   "source": [
    "std_Scale = StandardScaler()\n",
    "std_Scale.fit(D)\n",
    "\n",
    "P2 = std_Scale.transform(D)\n",
    "print(\"P2: \\n\", P2)"
   ]
  },
  {
   "cell_type": "markdown",
   "metadata": {},
   "source": [
    "Apply min-max scaling to P1, P3:"
   ]
  },
  {
   "cell_type": "code",
   "execution_count": 141,
   "metadata": {},
   "outputs": [
    {
     "name": "stdout",
     "output_type": "stream",
     "text": [
      "P3: \n",
      " [[20.26760776 25.84915455]\n",
      " [ 9.40161172 18.46037692]\n",
      " [15.55931731 19.16575163]\n",
      " [22.89085134 15.41955574]\n",
      " [17.14341868 22.06461341]]\n"
     ]
    }
   ],
   "source": [
    "#Min-Maxing P1 will return original data set prior to first Min-Max\n",
    "\n",
    "Min_Max_2 = MinMaxScaler()\n",
    "Min_Max_2.fit(P1)\n",
    "\n",
    "P3 = Min_Max_2.transform(D)\n",
    "print(\"P3: \\n\", P3)"
   ]
  },
  {
   "cell_type": "markdown",
   "metadata": {},
   "source": [
    "Plot P1, P2, and P3 for each attribute on a separate chart. Each sub-plot must be side-by-side:"
   ]
  },
  {
   "cell_type": "code",
   "execution_count": 142,
   "metadata": {},
   "outputs": [
    {
     "data": {
      "text/plain": [
       "<matplotlib.collections.PathCollection at 0x224a4006af0>"
      ]
     },
     "execution_count": 142,
     "metadata": {},
     "output_type": "execute_result"
    },
    {
     "data": {
      "image/png": "[encoded data removed]",
      "text/plain": [
       "<Figure size 432x288 with 3 Axes>"
      ]
     },
     "metadata": {
      "needs_background": "light"
     },
     "output_type": "display_data"
    }
   ],
   "source": [
    "fig, (ax1, ax2, ax3) = plt.subplots(1,3)\n",
    "fig.suptitle(\"P1, P2 and P3\")\n",
    "\n",
    "ax1.scatter(*zip(*P1))\n",
    "ax2.scatter(*zip(*P2))\n",
    "ax3.scatter(*zip(*P3))"
   ]
  },
  {
   "cell_type": "markdown",
   "metadata": {},
   "source": [
    "Compare P1 and P3. Discuss the relation between P1 and P3:"
   ]
  },
  {
   "cell_type": "markdown",
   "metadata": {},
   "source": []
  },
  {
   "cell_type": "markdown",
   "metadata": {},
   "source": [
    "# PART II"
   ]
  },
  {
   "cell_type": "markdown",
   "metadata": {},
   "source": [
    "## Prepare Data"
   ]
  },
  {
   "cell_type": "markdown",
   "metadata": {},
   "source": [
    "b1 = 2*a1<br>\n",
    "b2 = normal distribution N(mean=40,var=4)<br>\n",
    "Pr(b1,b2) = {(b1, b2)}, data objects with class positive<br>\n",
    "P = Rotate(Pr,45), rotate Pr by 45 degrees in counter-clockwise<br>\n",
    "Nr = Shift(Pr,x,20), shift in X-dimension by 20 units towards right, data objects with class negative<br>\n",
    "N = Rotate(Nr,45), rotate Nr by 45 degrees in counter-clockwise<br>"
   ]
  },
  {
   "cell_type": "code",
   "execution_count": 171,
   "metadata": {},
   "outputs": [
    {
     "name": "stdout",
     "output_type": "stream",
     "text": [
      "Pr: \n",
      " [[40.53521552 44.83327636]\n",
      " [18.80322343 32.89503343]\n",
      " [31.11863463 39.88540713]\n",
      " [45.78170268 36.94642006]\n",
      " [34.28683736 45.23104157]]\n",
      "\n",
      "P (Pr rotated 45 deg counter-clockwise): \n",
      "           0          1\n",
      "0 -3.039188  60.364640\n",
      "1 -9.964414  36.556188\n",
      "2 -6.199044  50.207439\n",
      "3  6.247488  58.497617\n",
      "4 -7.738721  56.227631\n",
      "\n",
      "Nr: \n",
      " [[60.53521552 44.83327636]\n",
      " [38.80322343 32.89503343]\n",
      " [51.11863463 39.88540713]\n",
      " [65.78170268 36.94642006]\n",
      " [54.28683736 45.23104157]]\n",
      "\n",
      "N (Nr rotated 45 deg counter-clockwise): \n",
      "            0          1\n",
      "0  11.102948  74.506775\n",
      "1   4.177721  50.698324\n",
      "2   7.943091  64.349575\n",
      "3  20.389624  72.639752\n",
      "4   6.403415  70.369767\n"
     ]
    }
   ],
   "source": [
    "#creating b1 and b2\n",
    "Pre = []\n",
    "for i in range(0,len(D)):\n",
    "    b1 = ((D[i][0]) * 2)\n",
    "    b2 = (np.random.normal(loc=40, scale=(4), size=None))\n",
    "    Pre.append([b1,b2])\n",
    "    \n",
    "Pr = np.array(Pre)\n",
    "print(\"Pr: \\n\", Pr)\n",
    "\n",
    "###\n",
    "\n",
    "\n",
    "###Rotating Pr\n",
    "def rotation(degrees):\n",
    "    theta = np.radians(degrees)\n",
    "    \n",
    "    rMatrix = np.array( ((np.cos(theta), -np.sin(theta)), (np.sin(theta), np.cos(theta)) ))\n",
    "    return rMatrix\n",
    "\n",
    "P_rotate = rotation(45)\n",
    "\n",
    "P=[]\n",
    "for i in range(0, len(Pr)):\n",
    "    P.append(P_rotate.dot(Pr[i]))\n",
    "\n",
    "print(\"\\nP (Pr rotated 45 deg counter-clockwise): \\n\", pd.DataFrame(P))\n",
    "\n",
    "###\n",
    "\n",
    "\n",
    "### Shifting Pr 20 units in the x-direction\n",
    "Nr = []\n",
    "for i in range(0, len(Pr)):\n",
    "    a = Pr[i][0] + 20\n",
    "    b = Pr[i][1]\n",
    "    Nr.append([a,b])\n",
    "\n",
    "Nr = np.array(Nr)\n",
    "print(\"\\nNr: \\n\",Nr)\n",
    "\n",
    "###\n",
    "\n",
    "\n",
    "### Rotating Nr 45 degrees counter-clockwise\n",
    "N_rotate = rotation(45)\n",
    "\n",
    "N=[]\n",
    "for i in range(0, len(Nr)):\n",
    "    N.append(N_rotate.dot(Nr[i]))\n",
    "             \n",
    "print(\"\\nN (Nr rotated 45 deg counter-clockwise): \\n\", pd.DataFrame(N))\n",
    "\n",
    "###"
   ]
  },
  {
   "cell_type": "markdown",
   "metadata": {},
   "source": [
    "## Scaling"
   ]
  },
  {
   "cell_type": "markdown",
   "metadata": {},
   "source": [
    "Apply scaling to P by min-max to [0, 1], P1:"
   ]
  },
  {
   "cell_type": "code",
   "execution_count": 144,
   "metadata": {},
   "outputs": [
    {
     "name": "stdout",
     "output_type": "stream",
     "text": [
      "P1: \n",
      " [[0.4999364  0.        ]\n",
      " [0.         1.        ]\n",
      " [0.51809249 0.67996309]\n",
      " [1.         0.15714393]\n",
      " [0.56720606 0.50920568]]\n"
     ]
    }
   ],
   "source": [
    "Min_Max_P = MinMaxScaler()\n",
    "Min_Max_P.fit(P)\n",
    "\n",
    "P1 = Min_Max_P.transform(P)\n",
    "print(\"P1: \\n\", P1)"
   ]
  },
  {
   "cell_type": "markdown",
   "metadata": {},
   "source": [
    "Apply scaling to P by min-max to [-1, 1], P2:"
   ]
  },
  {
   "cell_type": "code",
   "execution_count": 145,
   "metadata": {},
   "outputs": [
    {
     "name": "stdout",
     "output_type": "stream",
     "text": [
      "P2: \n",
      " [[-1.27192546e-04 -1.00000000e+00]\n",
      " [-1.00000000e+00  1.00000000e+00]\n",
      " [ 3.61849766e-02  3.59926186e-01]\n",
      " [ 1.00000000e+00 -6.85712133e-01]\n",
      " [ 1.34412114e-01  1.84113559e-02]]\n"
     ]
    }
   ],
   "source": [
    "Min_Max_Neg = MinMaxScaler(feature_range = (-1,1))\n",
    "Min_Max_Neg.fit(P)\n",
    "\n",
    "P2 = Min_Max_Neg.transform(P)\n",
    "print(\"P2: \\n\", P2)"
   ]
  },
  {
   "cell_type": "markdown",
   "metadata": {},
   "source": [
    "Apply scaling to P by std-normal, P3:"
   ]
  },
  {
   "cell_type": "code",
   "execution_count": null,
   "metadata": {},
   "outputs": [],
   "source": []
  },
  {
   "cell_type": "markdown",
   "metadata": {},
   "source": [
    "Apply scaling to N by min-max to [0, 1], N1:"
   ]
  },
  {
   "cell_type": "code",
   "execution_count": 172,
   "metadata": {},
   "outputs": [
    {
     "name": "stdout",
     "output_type": "stream",
     "text": [
      "N1: \n",
      " [[0.42716926 1.        ]\n",
      " [0.         0.        ]\n",
      " [0.23225961 0.57337838]\n",
      " [1.         0.92158151]\n",
      " [0.13728761 0.82623783]]\n"
     ]
    }
   ],
   "source": [
    "Min_Max_N = MinMaxScaler()\n",
    "Min_Max_N.fit(N)\n",
    "\n",
    "N1 = Min_Max_N.transform(N)\n",
    "print(\"N1: \\n\", N1)"
   ]
  },
  {
   "cell_type": "markdown",
   "metadata": {},
   "source": [
    "Apply scaling to N by min-max to [-1, 1], N2:"
   ]
  },
  {
   "cell_type": "code",
   "execution_count": 173,
   "metadata": {},
   "outputs": [
    {
     "name": "stdout",
     "output_type": "stream",
     "text": [
      "N2: \n",
      " [[-0.14566148  1.        ]\n",
      " [-1.         -1.        ]\n",
      " [-0.53548079  0.14675676]\n",
      " [ 1.          0.84316301]\n",
      " [-0.72542478  0.65247567]]\n"
     ]
    }
   ],
   "source": [
    "Min_Max_N2 = MinMaxScaler(feature_range = (-1,1))\n",
    "Min_Max_N2.fit(N)\n",
    "\n",
    "N2 = Min_Max_N2.transform(N)\n",
    "print(\"N2: \\n\", N2)"
   ]
  },
  {
   "cell_type": "markdown",
   "metadata": {},
   "source": [
    "Apply scaling to N by std-normal, N3:"
   ]
  },
  {
   "cell_type": "code",
   "execution_count": null,
   "metadata": {},
   "outputs": [],
   "source": []
  },
  {
   "cell_type": "markdown",
   "metadata": {},
   "source": [
    "## Visualize Data"
   ]
  },
  {
   "cell_type": "markdown",
   "metadata": {},
   "source": [
    "Plot Pr, P, P1, P2, P3 in the same figure on a separate sub-plots of 2 by 3:"
   ]
  },
  {
   "cell_type": "code",
   "execution_count": null,
   "metadata": {},
   "outputs": [],
   "source": []
  },
  {
   "cell_type": "markdown",
   "metadata": {},
   "source": [
    "Plot Nr, N, N1, N2, N3 in the same figure on a separate sub-plots of 2 by 3:"
   ]
  },
  {
   "cell_type": "code",
   "execution_count": null,
   "metadata": {},
   "outputs": [],
   "source": []
  },
  {
   "cell_type": "markdown",
   "metadata": {},
   "source": [
    "## K-NN Classification"
   ]
  },
  {
   "cell_type": "markdown",
   "metadata": {},
   "source": [
    "### Obtain 60% training dTrn, 20% validation dVal, 20% test dTst for each data set per class:"
   ]
  },
  {
   "cell_type": "code",
   "execution_count": 146,
   "metadata": {},
   "outputs": [],
   "source": [
    "def getData(pInput,pRatio):\n",
    "    #complete as needed\n",
    "    #return dTrn, dVal, dTst\n",
    "    #pRatio = (0.6, 0.2, 0.3) as an example\n",
    "    pass\n",
    "        \n",
    "#\n",
    "\n"
   ]
  },
  {
   "cell_type": "markdown",
   "metadata": {},
   "source": [
    "### Explore K-NN Classifiers"
   ]
  },
  {
   "cell_type": "code",
   "execution_count": 147,
   "metadata": {},
   "outputs": [
    {
     "data": {
      "text/plain": [
       "'\\nPerformance measures: Sensitivity, specificity, AUC, F1\\n\\nDefine a function knnClassifier(pTrn, pVal, pTst, eps, *kwargs)\\nk = 2\\nLoop: Increase k by 1 until the accuracy change is less than eps:<br>\\n   Generate Model\\n   Obtain contingency table based on validation data set\\n   Calculate accuracy over validation data set\\n   Calculate accuracy change \"ac\"\\n   if ac < eps:\\n       Obtain contingency table for testing data set\\n       Calculate performance measures for testing data set\\n       Plot ROC\\n       Plot accuracy-K chart\\n       return (k, performance measures, contingency table, others as needed)\\n   else:\\n       k = k + 1\\n   #\\n#   \\n'"
      ]
     },
     "execution_count": 147,
     "metadata": {},
     "output_type": "execute_result"
    }
   ],
   "source": [
    "'''\n",
    "Performance measures: Sensitivity, specificity, AUC, F1\n",
    "\n",
    "Define a function knnClassifier(pTrn, pVal, pTst, eps, *kwargs)\n",
    "k = 2\n",
    "Loop: Increase k by 1 until the accuracy change is less than eps:<br>\n",
    "   Generate Model\n",
    "   Obtain contingency table based on validation data set\n",
    "   Calculate accuracy over validation data set\n",
    "   Calculate accuracy change \"ac\"\n",
    "   if ac < eps:\n",
    "       Obtain contingency table for testing data set\n",
    "       Calculate performance measures for testing data set\n",
    "       Plot ROC\n",
    "       Plot accuracy-K chart\n",
    "       return (k, performance measures, contingency table, others as needed)\n",
    "   else:\n",
    "       k = k + 1\n",
    "   #\n",
    "#   \n",
    "'''"
   ]
  },
  {
   "cell_type": "code",
   "execution_count": 148,
   "metadata": {},
   "outputs": [],
   "source": [
    "def knnClassifier(pTrn, pVal, pTst, eps, *kwargs):\n",
    "    #complete as needed\n",
    "    #return the model and performance measures\n",
    "    k = 2\n",
    "    \n",
    "\n",
    "#"
   ]
  },
  {
   "cell_type": "markdown",
   "metadata": {},
   "source": [
    "### Run experiments for each data set {(Pr, Nr), (P, N), (P1, N1), (P2, N2), (P3, N3)}"
   ]
  },
  {
   "cell_type": "code",
   "execution_count": 149,
   "metadata": {},
   "outputs": [
    {
     "data": {
      "text/plain": [
       "'\\nFor each data set (Pi, Ni)\\n   Get training, validation, test data sets\\n   Find the best model\\n   Obtain contingency table\\n   Calculate performance measures for the test data set\\n   Plot ROC\\n   Plot accuracy-K chart\\n'"
      ]
     },
     "execution_count": 149,
     "metadata": {},
     "output_type": "execute_result"
    }
   ],
   "source": [
    "'''\n",
    "For each data set (Pi, Ni)\n",
    "   Get training, validation, test data sets\n",
    "   Find the best model\n",
    "   Obtain contingency table\n",
    "   Calculate performance measures for the test data set\n",
    "   Plot ROC\n",
    "   Plot accuracy-K chart\n",
    "'''"
   ]
  },
  {
   "cell_type": "code",
   "execution_count": null,
   "metadata": {},
   "outputs": [],
   "source": []
  },
  {
   "cell_type": "markdown",
   "metadata": {},
   "source": [
    "## Discussion\n",
    "Discuss how scaling affects the classification performance of K-NN classifier based on each performance measures "
   ]
  },
  {
   "cell_type": "code",
   "execution_count": null,
   "metadata": {},
   "outputs": [],
   "source": []
  },
  {
   "cell_type": "markdown",
   "metadata": {
    "collapsed": true
   },
   "source": [
    "## <center> REFERENCES </center>\n",
    "List resources (book, internet page, etc.) that you used to complete this challenge."
   ]
  },
  {
   "cell_type": "markdown",
   "metadata": {},
   "source": []
  }
 ],
 "metadata": {
  "kernelspec": {
   "display_name": "Python 3",
   "language": "python",
   "name": "python3"
  },
  "language_info": {
   "codemirror_mode": {
    "name": "ipython",
    "version": 3
   },
   "file_extension": ".py",
   "mimetype": "text/x-python",
   "name": "python",
   "nbconvert_exporter": "python",
   "pygments_lexer": "ipython3",
   "version": "3.8.5"
  }
 },
 "nbformat": 4,
 "nbformat_minor": 2
}
