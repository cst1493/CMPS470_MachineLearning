{
 "cells": [
  {
   "cell_type": "code",
   "execution_count": 14,
   "metadata": {},
   "outputs": [],
   "source": [
    "#imports:\n",
    "import math\n",
    "import numpy as np\n",
    "import pandas as pd\n",
    "from sklearn.model_selection import train_test_split\n",
    "from sklearn.preprocessing import StandardScaler ###\n",
    "from sklearn.preprocessing import LabelEncoder\n",
    "from sklearn.neural_network import MLPClassifier\n",
    "from sklearn.metrics import classification_report, confusion_matrix\n",
    "#from sklearn import metrics\n",
    "#import matplotlib.pyplot as plt"
   ]
  },
  {
   "cell_type": "code",
   "execution_count": 15,
   "metadata": {},
   "outputs": [
    {
     "data": {
      "text/html": [
       "<div>\n",
       "<style scoped>\n",
       "    .dataframe tbody tr th:only-of-type {\n",
       "        vertical-align: middle;\n",
       "    }\n",
       "\n",
       "    .dataframe tbody tr th {\n",
       "        vertical-align: top;\n",
       "    }\n",
       "\n",
       "    .dataframe thead th {\n",
       "        text-align: right;\n",
       "    }\n",
       "</style>\n",
       "<table border=\"1\" class=\"dataframe\">\n",
       "  <thead>\n",
       "    <tr style=\"text-align: right;\">\n",
       "      <th></th>\n",
       "      <th>Date</th>\n",
       "      <th>Open</th>\n",
       "      <th>High</th>\n",
       "      <th>Low</th>\n",
       "      <th>Close</th>\n",
       "      <th>Volume</th>\n",
       "      <th>Profit</th>\n",
       "      <th>Did_Win</th>\n",
       "    </tr>\n",
       "  </thead>\n",
       "  <tbody>\n",
       "    <tr>\n",
       "      <th>0</th>\n",
       "      <td>1/1/2001</td>\n",
       "      <td>268.399994</td>\n",
       "      <td>268.399994</td>\n",
       "      <td>267.299988</td>\n",
       "      <td>268.000000</td>\n",
       "      <td>2</td>\n",
       "      <td>-4.100006</td>\n",
       "      <td>0.0</td>\n",
       "    </tr>\n",
       "    <tr>\n",
       "      <th>1</th>\n",
       "      <td>1/8/2001</td>\n",
       "      <td>268.000000</td>\n",
       "      <td>268.000000</td>\n",
       "      <td>263.899994</td>\n",
       "      <td>263.899994</td>\n",
       "      <td>0</td>\n",
       "      <td>0.399994</td>\n",
       "      <td>1.0</td>\n",
       "    </tr>\n",
       "    <tr>\n",
       "      <th>2</th>\n",
       "      <td>1/15/2001</td>\n",
       "      <td>263.299988</td>\n",
       "      <td>264.299988</td>\n",
       "      <td>263.200012</td>\n",
       "      <td>264.299988</td>\n",
       "      <td>0</td>\n",
       "      <td>-1.500000</td>\n",
       "      <td>0.0</td>\n",
       "    </tr>\n",
       "    <tr>\n",
       "      <th>3</th>\n",
       "      <td>1/22/2001</td>\n",
       "      <td>266.399994</td>\n",
       "      <td>266.399994</td>\n",
       "      <td>262.799988</td>\n",
       "      <td>262.799988</td>\n",
       "      <td>0</td>\n",
       "      <td>4.300018</td>\n",
       "      <td>1.0</td>\n",
       "    </tr>\n",
       "  </tbody>\n",
       "</table>\n",
       "</div>"
      ],
      "text/plain": [
       "        Date        Open        High         Low       Close  Volume  \\\n",
       "0   1/1/2001  268.399994  268.399994  267.299988  268.000000       2   \n",
       "1   1/8/2001  268.000000  268.000000  263.899994  263.899994       0   \n",
       "2  1/15/2001  263.299988  264.299988  263.200012  264.299988       0   \n",
       "3  1/22/2001  266.399994  266.399994  262.799988  262.799988       0   \n",
       "\n",
       "     Profit  Did_Win  \n",
       "0 -4.100006      0.0  \n",
       "1  0.399994      1.0  \n",
       "2 -1.500000      0.0  \n",
       "3  4.300018      1.0  "
      ]
     },
     "execution_count": 15,
     "metadata": {},
     "output_type": "execute_result"
    }
   ],
   "source": [
    "data_ANN = pd.read_csv('GoldWeekly2001-2021.csv')\n",
    "data_ANN.head(n=4)"
   ]
  },
  {
   "cell_type": "code",
   "execution_count": 16,
   "metadata": {},
   "outputs": [],
   "source": [
    "from sklearn import preprocessing\n",
    "\n",
    "Label = preprocessing.LabelEncoder()\n",
    "\n",
    "infoFromLabel = Label.fit_transform(data_ANN['Open'])\n",
    "#infoFromLabel"
   ]
  },
  {
   "cell_type": "code",
   "execution_count": 17,
   "metadata": {},
   "outputs": [],
   "source": [
    "#Preprocessing data:\n",
    "data_labels = data_ANN['Date'].copy()\n",
    "data_ANN = data_ANN.drop('Date', axis = 1)\n",
    "\n",
    "#Split data for training and testing\n",
    "X_train, X_Test_Val = train_test_split(data_ANN, test_size = 0.4, train_size = 0.6, shuffle = False)\n",
    "X_test, X_val = train_test_split(X_Test_Val, test_size = 0.5, train_size = 0.5, shuffle = False)\n",
    "#Removing the labels from the data.\n",
    "train_labels = X_train['Did_Win'].copy()\n",
    "X_train = X_train.drop('Did_Win', axis = 1)\n",
    "\n",
    "test_labels = X_test['Did_Win'].copy()\n",
    "X_test = X_test.drop('Did_Win', axis = 1)\n",
    "\n",
    "val_labels = X_val['Did_Win'].copy()\n",
    "X_val = X_val.drop('Did_Win', axis = 1)\n"
   ]
  },
  {
   "cell_type": "code",
   "execution_count": 18,
   "metadata": {},
   "outputs": [
    {
     "data": {
      "text/plain": [
       "MLPClassifier(hidden_layer_sizes=(5, 5, 5), max_iter=500)"
      ]
     },
     "execution_count": 18,
     "metadata": {},
     "output_type": "execute_result"
    }
   ],
   "source": [
    "#Multi-layer-perceptron\n",
    "MLP = MLPClassifier(hidden_layer_sizes=(5,5,5), max_iter=500)\n",
    "MLP.fit(X_train, train_labels.values.ravel())\n",
    "\n",
    "\n",
    "# result_df = pd.DataFrame(dataset)\n",
    "# result_df = result_df.assign(DidWin = label, Predictions = results)"
   ]
  },
  {
   "cell_type": "code",
   "execution_count": null,
   "metadata": {},
   "outputs": [],
   "source": []
  }
 ],
 "metadata": {
  "kernelspec": {
   "display_name": "Python 3",
   "language": "python",
   "name": "python3"
  },
  "language_info": {
   "codemirror_mode": {
    "name": "ipython",
    "version": 3
   },
   "file_extension": ".py",
   "mimetype": "text/x-python",
   "name": "python",
   "nbconvert_exporter": "python",
   "pygments_lexer": "ipython3",
   "version": "3.8.5"
  }
 },
 "nbformat": 4,
 "nbformat_minor": 4
}
